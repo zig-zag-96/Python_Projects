{
 "cells": [
  {
   "cell_type": "markdown",
   "id": "d2b3cb98",
   "metadata": {},
   "source": [
    "# Modeling"
   ]
  },
  {
   "cell_type": "markdown",
   "id": "5b48f02f",
   "metadata": {},
   "source": [
    "The idea will be to split the data into train and test and see if we can predict the closure of a restaurant based on the attributes. "
   ]
  },
  {
   "cell_type": "code",
   "execution_count": null,
   "id": "5453ce00",
   "metadata": {},
   "outputs": [],
   "source": []
  }
 ],
 "metadata": {
  "kernelspec": {
   "display_name": "Python 3 (ipykernel)",
   "language": "python",
   "name": "python3"
  },
  "language_info": {
   "codemirror_mode": {
    "name": "ipython",
    "version": 3
   },
   "file_extension": ".py",
   "mimetype": "text/x-python",
   "name": "python",
   "nbconvert_exporter": "python",
   "pygments_lexer": "ipython3",
   "version": "3.8.12"
  }
 },
 "nbformat": 4,
 "nbformat_minor": 5
}
