{
 "cells": [
  {
   "cell_type": "markdown",
   "id": "453cd8b9",
   "metadata": {},
   "source": [
    "# Data Wrangling\n"
   ]
  },
  {
   "cell_type": "markdown",
   "id": "0f4c57e9",
   "metadata": {},
   "source": [
    "This notebook will be used to acquire and perform wrnagling exploration for the data to be used in this study. I test using the Yelp API but end up opting to use the Datasets that Yelp offers for academic studies. "
   ]
  },
  {
   "cell_type": "code",
   "execution_count": null,
   "id": "79730f8b",
   "metadata": {},
   "outputs": [],
   "source": [
    "import requests\n",
    "from dotenv import load_dotenv\n",
    "from pathlib import Path\n",
    "\n",
    "dotenv_path = Path('./YelpAPIKey.env')\n",
    "\n",
    "load_dotenv(dotenv_path=dotenv_path)\n",
    "\n",
    "API_CLIENT_ID = os.getenv('Yelp_Client_ID')\n",
    "API_CLIENT_KEY = os.getenv('Yelp_API_Key')"
   ]
  },
  {
   "cell_type": "code",
   "execution_count": null,
   "id": "e89bf57d",
   "metadata": {},
   "outputs": [],
   "source": [
    "# Example business ID\n",
    "business_ids = '0qNpTGTcqPwOLi2hADx4Xw'\n",
    "\n",
    "ENDPOINT_BUSINESS = 'https://api.yelp.com/v3/businesses/search'\n",
    "ENDPOINT_REVIEWS = 'https://api.yelp.com/v3/businesses/{}/reviews'.format(business_ids)\n",
    "\n",
    "HEADERS = {'Authorization': 'bearer %s' % API_CLIENT_KEY}"
   ]
  },
  {
   "cell_type": "code",
   "execution_count": null,
   "id": "168fac74",
   "metadata": {},
   "outputs": [],
   "source": [
    "response = requests.get(url=ENDPOINT_REVIEWS, headers=HEADERS)"
   ]
  },
  {
   "cell_type": "code",
   "execution_count": null,
   "id": "0fb78273",
   "metadata": {},
   "outputs": [],
   "source": [
    "data_test = response.json()\n",
    "print(data_test)"
   ]
  },
  {
   "cell_type": "markdown",
   "id": "69bc2b4e",
   "metadata": {},
   "source": [
    "#### After trying the API, there are a few issues that I do not want to deal with: \n",
    "- The text is limited to 120 characters which will significantly worsen my sentiment analysis\n",
    "- The API only allows 5,000 calls per 24 hours which owuld make data collection take a long time\n",
    "- Yelp offers their open dataset with vastly more business and reviews data for free for educational purposes\n",
    "\n",
    "I will import that data and use it for the study instead. https://www.yelp.com/dataset\n"
   ]
  },
  {
   "cell_type": "code",
   "execution_count": 2,
   "id": "b35c036d",
   "metadata": {},
   "outputs": [],
   "source": [
    "import patoolib\n",
    "import tarfile\n",
    "import os\n",
    "import json\n",
    "import csv\n",
    "import pandas as pd\n",
    "\n",
    "path = r'C:\\Users\\ziggy\\Springboard\\Python_Projects\\Yelp Restaurant Analysis\\Data'"
   ]
  },
  {
   "cell_type": "code",
   "execution_count": 111,
   "id": "15e8d38e",
   "metadata": {},
   "outputs": [
    {
     "data": {
      "text/plain": [
       "'Dataset_User_Agreement.pdf'"
      ]
     },
     "execution_count": 111,
     "metadata": {},
     "output_type": "execute_result"
    }
   ],
   "source": [
    "os.chdir(path)\n",
    "\n",
    "t1 = os.listdir('.')[1]\n",
    "t1"
   ]
  },
  {
   "cell_type": "code",
   "execution_count": 1,
   "id": "69bb6e96",
   "metadata": {},
   "outputs": [],
   "source": [
    "tar = tarfile.open(t1)\n",
    "tar.extractall()\n",
    "tar.close()"
   ]
  },
  {
   "cell_type": "code",
   "execution_count": 2,
   "id": "674c74b2",
   "metadata": {},
   "outputs": [],
   "source": [
    "business_json_path = r'C:\\Users\\ziggy\\Springboard\\Python_Projects\\Yelp Restaurant Analysis\\Data\\yelp_academic_dataset_business.json'\n",
    "df_b = pd.json_normalize(business_json_path, lines=True)\n"
   ]
  },
  {
   "cell_type": "markdown",
   "id": "0ebf7273",
   "metadata": {},
   "source": [
    "##### The first step will be to get the infomration about restaurants.\n",
    "I will need to use the categories column to filter all the data to: \"Food\", \"restaurants\", etc. \n",
    "\n",
    "I will then be able to create a dataframe that is specific to restaurants with business Ids that I can match to the reviews for the sentiment analysis. \n",
    "\n",
    "I will then be able to see if there is any correlation between attributes and ratings, geosptial analysis for the types of businesses. etc."
   ]
  },
  {
   "cell_type": "code",
   "execution_count": 26,
   "id": "10725de5",
   "metadata": {},
   "outputs": [
    {
     "data": {
      "text/plain": [
       "0         Doctors, Traditional Chinese Medicine, Naturop...\n",
       "1         Shipping Centers, Local Services, Notaries, Ma...\n",
       "2         Department Stores, Shopping, Fashion, Home & G...\n",
       "3         Restaurants, Food, Bubble Tea, Coffee & Tea, B...\n",
       "4                                 Brewpubs, Breweries, Food\n",
       "                                ...                        \n",
       "150341                           Nail Salons, Beauty & Spas\n",
       "150342    Pets, Nurseries & Gardening, Pet Stores, Hobby...\n",
       "150343    Shopping, Jewelry, Piercing, Toy Stores, Beaut...\n",
       "150344    Fitness/Exercise Equipment, Eyewear & Optician...\n",
       "150345    Beauty & Spas, Permanent Makeup, Piercing, Tattoo\n",
       "Name: categories, Length: 150346, dtype: object"
      ]
     },
     "execution_count": 26,
     "metadata": {},
     "output_type": "execute_result"
    }
   ],
   "source": [
    "df_b.categories"
   ]
  },
  {
   "cell_type": "code",
   "execution_count": 27,
   "id": "9add661d",
   "metadata": {},
   "outputs": [],
   "source": [
    "pattern = 'food|restaurant'\n",
    "df_food = df_b['categories'].str.contains(pattern, case=False, na=False)"
   ]
  },
  {
   "cell_type": "code",
   "execution_count": 28,
   "id": "e15c1388",
   "metadata": {},
   "outputs": [],
   "source": [
    "df_r = df_b[df_food]"
   ]
  },
  {
   "cell_type": "code",
   "execution_count": 29,
   "id": "c77b5ad9",
   "metadata": {},
   "outputs": [
    {
     "data": {
      "text/html": [
       "<div>\n",
       "<style scoped>\n",
       "    .dataframe tbody tr th:only-of-type {\n",
       "        vertical-align: middle;\n",
       "    }\n",
       "\n",
       "    .dataframe tbody tr th {\n",
       "        vertical-align: top;\n",
       "    }\n",
       "\n",
       "    .dataframe thead th {\n",
       "        text-align: right;\n",
       "    }\n",
       "</style>\n",
       "<table border=\"1\" class=\"dataframe\">\n",
       "  <thead>\n",
       "    <tr style=\"text-align: right;\">\n",
       "      <th></th>\n",
       "      <th>latitude</th>\n",
       "      <th>longitude</th>\n",
       "      <th>stars</th>\n",
       "      <th>review_count</th>\n",
       "      <th>is_open</th>\n",
       "    </tr>\n",
       "  </thead>\n",
       "  <tbody>\n",
       "    <tr>\n",
       "      <th>count</th>\n",
       "      <td>64629.000000</td>\n",
       "      <td>64629.000000</td>\n",
       "      <td>64629.000000</td>\n",
       "      <td>64629.000000</td>\n",
       "      <td>64629.000000</td>\n",
       "    </tr>\n",
       "    <tr>\n",
       "      <th>mean</th>\n",
       "      <td>36.969005</td>\n",
       "      <td>-88.096469</td>\n",
       "      <td>3.545962</td>\n",
       "      <td>76.600891</td>\n",
       "      <td>0.690000</td>\n",
       "    </tr>\n",
       "    <tr>\n",
       "      <th>std</th>\n",
       "      <td>6.019033</td>\n",
       "      <td>14.025379</td>\n",
       "      <td>0.853905</td>\n",
       "      <td>173.369068</td>\n",
       "      <td>0.462497</td>\n",
       "    </tr>\n",
       "    <tr>\n",
       "      <th>min</th>\n",
       "      <td>27.564457</td>\n",
       "      <td>-120.083748</td>\n",
       "      <td>1.000000</td>\n",
       "      <td>5.000000</td>\n",
       "      <td>0.000000</td>\n",
       "    </tr>\n",
       "    <tr>\n",
       "      <th>25%</th>\n",
       "      <td>32.207352</td>\n",
       "      <td>-90.247514</td>\n",
       "      <td>3.000000</td>\n",
       "      <td>12.000000</td>\n",
       "      <td>0.000000</td>\n",
       "    </tr>\n",
       "    <tr>\n",
       "      <th>50%</th>\n",
       "      <td>39.479360</td>\n",
       "      <td>-86.048740</td>\n",
       "      <td>3.500000</td>\n",
       "      <td>28.000000</td>\n",
       "      <td>1.000000</td>\n",
       "    </tr>\n",
       "    <tr>\n",
       "      <th>75%</th>\n",
       "      <td>39.958126</td>\n",
       "      <td>-75.346993</td>\n",
       "      <td>4.000000</td>\n",
       "      <td>75.000000</td>\n",
       "      <td>1.000000</td>\n",
       "    </tr>\n",
       "    <tr>\n",
       "      <th>max</th>\n",
       "      <td>53.679197</td>\n",
       "      <td>-74.661348</td>\n",
       "      <td>5.000000</td>\n",
       "      <td>7568.000000</td>\n",
       "      <td>1.000000</td>\n",
       "    </tr>\n",
       "  </tbody>\n",
       "</table>\n",
       "</div>"
      ],
      "text/plain": [
       "           latitude     longitude         stars  review_count       is_open\n",
       "count  64629.000000  64629.000000  64629.000000  64629.000000  64629.000000\n",
       "mean      36.969005    -88.096469      3.545962     76.600891      0.690000\n",
       "std        6.019033     14.025379      0.853905    173.369068      0.462497\n",
       "min       27.564457   -120.083748      1.000000      5.000000      0.000000\n",
       "25%       32.207352    -90.247514      3.000000     12.000000      0.000000\n",
       "50%       39.479360    -86.048740      3.500000     28.000000      1.000000\n",
       "75%       39.958126    -75.346993      4.000000     75.000000      1.000000\n",
       "max       53.679197    -74.661348      5.000000   7568.000000      1.000000"
      ]
     },
     "execution_count": 29,
     "metadata": {},
     "output_type": "execute_result"
    }
   ],
   "source": [
    "df_r.describe()"
   ]
  },
  {
   "cell_type": "code",
   "execution_count": 3,
   "id": "734e9ca2",
   "metadata": {},
   "outputs": [],
   "source": [
    "categories = pd.DataFrame(df_r[['categories', 'stars']])"
   ]
  },
  {
   "cell_type": "markdown",
   "id": "286516d8",
   "metadata": {},
   "source": [
    "##### Initial thoughts\n",
    "The average star rating is 3.54 which does not seem to indicate that there is any wheighting towards higher star ratings. There is also the mean for the is_open variable (our target variable for the study) which is at .69. This suggests that there is a substantial number of restaurants that are closed. I will investigate further..\n",
    "\n"
   ]
  },
  {
   "cell_type": "code",
   "execution_count": 30,
   "id": "81893b2c",
   "metadata": {},
   "outputs": [
    {
     "data": {
      "text/plain": [
       "business_id        0\n",
       "name               0\n",
       "address            0\n",
       "city               0\n",
       "state              0\n",
       "postal_code        0\n",
       "latitude           0\n",
       "longitude          0\n",
       "stars              0\n",
       "review_count       0\n",
       "is_open            0\n",
       "attributes       877\n",
       "categories         0\n",
       "hours           9336\n",
       "dtype: int64"
      ]
     },
     "execution_count": 30,
     "metadata": {},
     "output_type": "execute_result"
    }
   ],
   "source": [
    "df_r.isna().sum()"
   ]
  },
  {
   "cell_type": "markdown",
   "id": "eceaef56",
   "metadata": {},
   "source": [
    "###### Inerestingly, within our data there are several establishments missing information for attributes and hours. I am going to drop them in the interest of moving on with the analysis. I was hoping there might be some was to use the missing store hours to show restaruatns that had closed down but that is what the \"is_open\" column is for. "
   ]
  },
  {
   "cell_type": "code",
   "execution_count": 31,
   "id": "a687f94e",
   "metadata": {},
   "outputs": [
    {
     "data": {
      "text/html": [
       "<div>\n",
       "<style scoped>\n",
       "    .dataframe tbody tr th:only-of-type {\n",
       "        vertical-align: middle;\n",
       "    }\n",
       "\n",
       "    .dataframe tbody tr th {\n",
       "        vertical-align: top;\n",
       "    }\n",
       "\n",
       "    .dataframe thead th {\n",
       "        text-align: right;\n",
       "    }\n",
       "</style>\n",
       "<table border=\"1\" class=\"dataframe\">\n",
       "  <thead>\n",
       "    <tr style=\"text-align: right;\">\n",
       "      <th></th>\n",
       "      <th>business_id</th>\n",
       "      <th>name</th>\n",
       "      <th>address</th>\n",
       "      <th>city</th>\n",
       "      <th>state</th>\n",
       "      <th>postal_code</th>\n",
       "      <th>latitude</th>\n",
       "      <th>longitude</th>\n",
       "      <th>stars</th>\n",
       "      <th>review_count</th>\n",
       "      <th>is_open</th>\n",
       "      <th>attributes</th>\n",
       "      <th>categories</th>\n",
       "      <th>hours</th>\n",
       "    </tr>\n",
       "  </thead>\n",
       "  <tbody>\n",
       "    <tr>\n",
       "      <th>8</th>\n",
       "      <td>k0hlBqXX-Bt0vf1op7Jr1w</td>\n",
       "      <td>Tsevi's Pub And Grill</td>\n",
       "      <td>8025 Mackenzie Rd</td>\n",
       "      <td>Affton</td>\n",
       "      <td>MO</td>\n",
       "      <td>63123</td>\n",
       "      <td>38.565165</td>\n",
       "      <td>-90.321087</td>\n",
       "      <td>3.0</td>\n",
       "      <td>19</td>\n",
       "      <td>0</td>\n",
       "      <td>{'Caters': 'True', 'Alcohol': 'u'full_bar'', '...</td>\n",
       "      <td>Pubs, Restaurants, Italian, Bars, American (Tr...</td>\n",
       "      <td>None</td>\n",
       "    </tr>\n",
       "    <tr>\n",
       "      <th>24</th>\n",
       "      <td>4iRzR7OaS-QaSXuvYxEGKA</td>\n",
       "      <td>Super Dog</td>\n",
       "      <td>1160 Gallatin Pike S</td>\n",
       "      <td>Nashville</td>\n",
       "      <td>TN</td>\n",
       "      <td>37115</td>\n",
       "      <td>36.248570</td>\n",
       "      <td>-86.719986</td>\n",
       "      <td>4.0</td>\n",
       "      <td>6</td>\n",
       "      <td>0</td>\n",
       "      <td>{'RestaurantsReservations': 'False', 'Restaura...</td>\n",
       "      <td>Hot Dogs, Restaurants</td>\n",
       "      <td>None</td>\n",
       "    </tr>\n",
       "    <tr>\n",
       "      <th>36</th>\n",
       "      <td>2xVsWBNFwZOxIOdd9Mwnww</td>\n",
       "      <td>Cheeseburger In Paradise</td>\n",
       "      <td>116 N Pottstown Pike</td>\n",
       "      <td>Exton</td>\n",
       "      <td>PA</td>\n",
       "      <td>19341</td>\n",
       "      <td>40.029962</td>\n",
       "      <td>-75.630607</td>\n",
       "      <td>2.5</td>\n",
       "      <td>20</td>\n",
       "      <td>0</td>\n",
       "      <td>{'NoiseLevel': 'u'average'', 'HasTV': 'True', ...</td>\n",
       "      <td>Restaurants, Burgers</td>\n",
       "      <td>None</td>\n",
       "    </tr>\n",
       "    <tr>\n",
       "      <th>54</th>\n",
       "      <td>0qNpTGTcqPwOLi2hADx4Xw</td>\n",
       "      <td>Charlie's Market</td>\n",
       "      <td>2815 E Sligh Ave</td>\n",
       "      <td>Tampa</td>\n",
       "      <td>FL</td>\n",
       "      <td>33610</td>\n",
       "      <td>28.010360</td>\n",
       "      <td>-82.430042</td>\n",
       "      <td>3.0</td>\n",
       "      <td>9</td>\n",
       "      <td>1</td>\n",
       "      <td>{'BusinessParking': '{'garage': False, 'street...</td>\n",
       "      <td>Food, Grocery, Convenience Stores</td>\n",
       "      <td>None</td>\n",
       "    </tr>\n",
       "    <tr>\n",
       "      <th>62</th>\n",
       "      <td>L_TT0BFmFwORAMaA83K54A</td>\n",
       "      <td>Village Tap Room</td>\n",
       "      <td>838 Broad Ripple Ave</td>\n",
       "      <td>Indianapolis</td>\n",
       "      <td>IN</td>\n",
       "      <td>46220</td>\n",
       "      <td>39.869911</td>\n",
       "      <td>-86.143577</td>\n",
       "      <td>2.5</td>\n",
       "      <td>23</td>\n",
       "      <td>0</td>\n",
       "      <td>{'Alcohol': 'u'none'', 'BestNights': '{'monday...</td>\n",
       "      <td>Gastropubs, Cocktail Bars, Beer Bar, Bars, Res...</td>\n",
       "      <td>None</td>\n",
       "    </tr>\n",
       "    <tr>\n",
       "      <th>...</th>\n",
       "      <td>...</td>\n",
       "      <td>...</td>\n",
       "      <td>...</td>\n",
       "      <td>...</td>\n",
       "      <td>...</td>\n",
       "      <td>...</td>\n",
       "      <td>...</td>\n",
       "      <td>...</td>\n",
       "      <td>...</td>\n",
       "      <td>...</td>\n",
       "      <td>...</td>\n",
       "      <td>...</td>\n",
       "      <td>...</td>\n",
       "      <td>...</td>\n",
       "    </tr>\n",
       "    <tr>\n",
       "      <th>150261</th>\n",
       "      <td>Y0TWCjiiXlFi2XO2cFrUzQ</td>\n",
       "      <td>Connexxions Cafe</td>\n",
       "      <td>12644 137 Avenue NW</td>\n",
       "      <td>Edmonton</td>\n",
       "      <td>AB</td>\n",
       "      <td>T5L 4Y5</td>\n",
       "      <td>53.600573</td>\n",
       "      <td>-113.540273</td>\n",
       "      <td>4.5</td>\n",
       "      <td>13</td>\n",
       "      <td>0</td>\n",
       "      <td>{'RestaurantsReservations': 'True', 'Alcohol':...</td>\n",
       "      <td>Hobby Shops, Tabletop Games, Coffee &amp; Tea, Foo...</td>\n",
       "      <td>None</td>\n",
       "    </tr>\n",
       "    <tr>\n",
       "      <th>150262</th>\n",
       "      <td>-bZQH8yjm7ntTyGeLQwh8Q</td>\n",
       "      <td>Farmer's Kitchen Restaurant</td>\n",
       "      <td>3500 E Bay Dr</td>\n",
       "      <td>Largo</td>\n",
       "      <td>FL</td>\n",
       "      <td>33771</td>\n",
       "      <td>27.916787</td>\n",
       "      <td>-82.750395</td>\n",
       "      <td>4.0</td>\n",
       "      <td>6</td>\n",
       "      <td>0</td>\n",
       "      <td>{'RestaurantsReservations': 'True', 'Restauran...</td>\n",
       "      <td>Sandwiches, Restaurants, Diners</td>\n",
       "      <td>None</td>\n",
       "    </tr>\n",
       "    <tr>\n",
       "      <th>150272</th>\n",
       "      <td>8BUr8GviR2o_b-brO21wwQ</td>\n",
       "      <td>Kyle's Isla Vista</td>\n",
       "      <td>900 Embarcadero Del Mar</td>\n",
       "      <td>Isla Vista</td>\n",
       "      <td>CA</td>\n",
       "      <td>93117</td>\n",
       "      <td>34.412966</td>\n",
       "      <td>-119.856886</td>\n",
       "      <td>2.5</td>\n",
       "      <td>12</td>\n",
       "      <td>1</td>\n",
       "      <td>{'OutdoorSeating': 'True', 'BusinessAcceptsBit...</td>\n",
       "      <td>Restaurants, Burgers, Food, Ice Cream &amp; Frozen...</td>\n",
       "      <td>None</td>\n",
       "    </tr>\n",
       "    <tr>\n",
       "      <th>150273</th>\n",
       "      <td>awRAcg8-5OqlULhDiIEFfA</td>\n",
       "      <td>Rustica Restaurant Pizzera</td>\n",
       "      <td>5860 York Rd</td>\n",
       "      <td>New Hope</td>\n",
       "      <td>PA</td>\n",
       "      <td>18938</td>\n",
       "      <td>40.346275</td>\n",
       "      <td>-75.035753</td>\n",
       "      <td>3.0</td>\n",
       "      <td>21</td>\n",
       "      <td>0</td>\n",
       "      <td>{'Alcohol': 'u'none'', 'HasTV': 'True', 'Outdo...</td>\n",
       "      <td>Pizza, Restaurants</td>\n",
       "      <td>None</td>\n",
       "    </tr>\n",
       "    <tr>\n",
       "      <th>150287</th>\n",
       "      <td>VZbkSeZtFynEascotq7ExA</td>\n",
       "      <td>Ali Baba Magic Food</td>\n",
       "      <td>37TH And Walnut</td>\n",
       "      <td>Philadelphia</td>\n",
       "      <td>PA</td>\n",
       "      <td>19104</td>\n",
       "      <td>39.953391</td>\n",
       "      <td>-75.196765</td>\n",
       "      <td>4.0</td>\n",
       "      <td>8</td>\n",
       "      <td>0</td>\n",
       "      <td>{'GoodForKids': 'False', 'RestaurantsReservati...</td>\n",
       "      <td>Restaurants, Food Stands</td>\n",
       "      <td>None</td>\n",
       "    </tr>\n",
       "  </tbody>\n",
       "</table>\n",
       "<p>9336 rows × 14 columns</p>\n",
       "</div>"
      ],
      "text/plain": [
       "                   business_id                         name  \\\n",
       "8       k0hlBqXX-Bt0vf1op7Jr1w        Tsevi's Pub And Grill   \n",
       "24      4iRzR7OaS-QaSXuvYxEGKA                    Super Dog   \n",
       "36      2xVsWBNFwZOxIOdd9Mwnww     Cheeseburger In Paradise   \n",
       "54      0qNpTGTcqPwOLi2hADx4Xw             Charlie's Market   \n",
       "62      L_TT0BFmFwORAMaA83K54A             Village Tap Room   \n",
       "...                        ...                          ...   \n",
       "150261  Y0TWCjiiXlFi2XO2cFrUzQ             Connexxions Cafe   \n",
       "150262  -bZQH8yjm7ntTyGeLQwh8Q  Farmer's Kitchen Restaurant   \n",
       "150272  8BUr8GviR2o_b-brO21wwQ            Kyle's Isla Vista   \n",
       "150273  awRAcg8-5OqlULhDiIEFfA   Rustica Restaurant Pizzera   \n",
       "150287  VZbkSeZtFynEascotq7ExA          Ali Baba Magic Food   \n",
       "\n",
       "                        address          city state postal_code   latitude  \\\n",
       "8             8025 Mackenzie Rd        Affton    MO       63123  38.565165   \n",
       "24         1160 Gallatin Pike S     Nashville    TN       37115  36.248570   \n",
       "36         116 N Pottstown Pike         Exton    PA       19341  40.029962   \n",
       "54             2815 E Sligh Ave         Tampa    FL       33610  28.010360   \n",
       "62         838 Broad Ripple Ave  Indianapolis    IN       46220  39.869911   \n",
       "...                         ...           ...   ...         ...        ...   \n",
       "150261      12644 137 Avenue NW      Edmonton    AB     T5L 4Y5  53.600573   \n",
       "150262            3500 E Bay Dr         Largo    FL       33771  27.916787   \n",
       "150272  900 Embarcadero Del Mar    Isla Vista    CA       93117  34.412966   \n",
       "150273             5860 York Rd      New Hope    PA       18938  40.346275   \n",
       "150287          37TH And Walnut  Philadelphia    PA       19104  39.953391   \n",
       "\n",
       "         longitude  stars  review_count  is_open  \\\n",
       "8       -90.321087    3.0            19        0   \n",
       "24      -86.719986    4.0             6        0   \n",
       "36      -75.630607    2.5            20        0   \n",
       "54      -82.430042    3.0             9        1   \n",
       "62      -86.143577    2.5            23        0   \n",
       "...            ...    ...           ...      ...   \n",
       "150261 -113.540273    4.5            13        0   \n",
       "150262  -82.750395    4.0             6        0   \n",
       "150272 -119.856886    2.5            12        1   \n",
       "150273  -75.035753    3.0            21        0   \n",
       "150287  -75.196765    4.0             8        0   \n",
       "\n",
       "                                               attributes  \\\n",
       "8       {'Caters': 'True', 'Alcohol': 'u'full_bar'', '...   \n",
       "24      {'RestaurantsReservations': 'False', 'Restaura...   \n",
       "36      {'NoiseLevel': 'u'average'', 'HasTV': 'True', ...   \n",
       "54      {'BusinessParking': '{'garage': False, 'street...   \n",
       "62      {'Alcohol': 'u'none'', 'BestNights': '{'monday...   \n",
       "...                                                   ...   \n",
       "150261  {'RestaurantsReservations': 'True', 'Alcohol':...   \n",
       "150262  {'RestaurantsReservations': 'True', 'Restauran...   \n",
       "150272  {'OutdoorSeating': 'True', 'BusinessAcceptsBit...   \n",
       "150273  {'Alcohol': 'u'none'', 'HasTV': 'True', 'Outdo...   \n",
       "150287  {'GoodForKids': 'False', 'RestaurantsReservati...   \n",
       "\n",
       "                                               categories hours  \n",
       "8       Pubs, Restaurants, Italian, Bars, American (Tr...  None  \n",
       "24                                  Hot Dogs, Restaurants  None  \n",
       "36                                   Restaurants, Burgers  None  \n",
       "54                      Food, Grocery, Convenience Stores  None  \n",
       "62      Gastropubs, Cocktail Bars, Beer Bar, Bars, Res...  None  \n",
       "...                                                   ...   ...  \n",
       "150261  Hobby Shops, Tabletop Games, Coffee & Tea, Foo...  None  \n",
       "150262                    Sandwiches, Restaurants, Diners  None  \n",
       "150272  Restaurants, Burgers, Food, Ice Cream & Frozen...  None  \n",
       "150273                                 Pizza, Restaurants  None  \n",
       "150287                           Restaurants, Food Stands  None  \n",
       "\n",
       "[9336 rows x 14 columns]"
      ]
     },
     "execution_count": 31,
     "metadata": {},
     "output_type": "execute_result"
    }
   ],
   "source": [
    "df_r[df_r['hours'].isnull()]"
   ]
  },
  {
   "cell_type": "code",
   "execution_count": 32,
   "id": "9b69ac1f",
   "metadata": {},
   "outputs": [],
   "source": [
    "df_res = df_r.dropna()"
   ]
  },
  {
   "cell_type": "code",
   "execution_count": 33,
   "id": "5d6eb58e",
   "metadata": {},
   "outputs": [],
   "source": [
    "df_res.to_csv('Restaurants')"
   ]
  },
  {
   "cell_type": "code",
   "execution_count": 66,
   "id": "a2dcabe7",
   "metadata": {},
   "outputs": [],
   "source": [
    "df_business_ids = df_res.business_id"
   ]
  },
  {
   "cell_type": "code",
   "execution_count": 64,
   "id": "8ce2d558",
   "metadata": {},
   "outputs": [
    {
     "data": {
      "text/plain": [
       "3     MTSW4McQd7CbVtyjqoe9mw\n",
       "4     mWMc6_wTdE0EUBKIGXDVfA\n",
       "5     CF33F8-E6oudUQ46HnavjQ\n",
       "9     bBDDEgkFA1Otx9Lfe7BZUQ\n",
       "11    eEOYSgkmpB90uNA7lDOMRA\n",
       "Name: business_id, dtype: object"
      ]
     },
     "execution_count": 64,
     "metadata": {},
     "output_type": "execute_result"
    }
   ],
   "source": [
    "df_buisness_ids.head()"
   ]
  },
  {
   "cell_type": "code",
   "execution_count": 70,
   "id": "ae79f5a4",
   "metadata": {},
   "outputs": [],
   "source": [
    "reviews_json_path = r'C:\\Users\\ziggy\\Springboard\\Python_Projects\\Yelp Restaurant Analysis\\Data\\yelp_academic_dataset_review.json'\n",
    "reviews = pd.read_json(reviews_json_path, lines=True, chunksize=1000000)\n"
   ]
  },
  {
   "cell_type": "code",
   "execution_count": 4,
   "id": "fb38e069",
   "metadata": {},
   "outputs": [],
   "source": [
    "for chunk in reviews:\n",
    "    print(chunk)"
   ]
  },
  {
   "cell_type": "code",
   "execution_count": 73,
   "id": "f6db4905",
   "metadata": {},
   "outputs": [
    {
     "data": {
      "text/html": [
       "<div>\n",
       "<style scoped>\n",
       "    .dataframe tbody tr th:only-of-type {\n",
       "        vertical-align: middle;\n",
       "    }\n",
       "\n",
       "    .dataframe tbody tr th {\n",
       "        vertical-align: top;\n",
       "    }\n",
       "\n",
       "    .dataframe thead th {\n",
       "        text-align: right;\n",
       "    }\n",
       "</style>\n",
       "<table border=\"1\" class=\"dataframe\">\n",
       "  <thead>\n",
       "    <tr style=\"text-align: right;\">\n",
       "      <th></th>\n",
       "      <th>review_id</th>\n",
       "      <th>user_id</th>\n",
       "      <th>business_id</th>\n",
       "      <th>stars</th>\n",
       "      <th>useful</th>\n",
       "      <th>funny</th>\n",
       "      <th>cool</th>\n",
       "      <th>text</th>\n",
       "      <th>date</th>\n",
       "    </tr>\n",
       "  </thead>\n",
       "  <tbody>\n",
       "    <tr>\n",
       "      <th>0</th>\n",
       "      <td>KU_O5udG6zpxOg-VcAEodg</td>\n",
       "      <td>mh_-eMZ6K5RLWhZyISBhwA</td>\n",
       "      <td>XQfwVwDr-v0ZS3_CbbE5Xw</td>\n",
       "      <td>3</td>\n",
       "      <td>0</td>\n",
       "      <td>0</td>\n",
       "      <td>0</td>\n",
       "      <td>If you decide to eat here, just be aware it is...</td>\n",
       "      <td>2018-07-07 22:09:11</td>\n",
       "    </tr>\n",
       "    <tr>\n",
       "      <th>1</th>\n",
       "      <td>BiTunyQ73aT9WBnpR9DZGw</td>\n",
       "      <td>OyoGAe7OKpv6SyGZT5g77Q</td>\n",
       "      <td>7ATYjTIgM3jUlt4UM3IypQ</td>\n",
       "      <td>5</td>\n",
       "      <td>1</td>\n",
       "      <td>0</td>\n",
       "      <td>1</td>\n",
       "      <td>I've taken a lot of spin classes over the year...</td>\n",
       "      <td>2012-01-03 15:28:18</td>\n",
       "    </tr>\n",
       "    <tr>\n",
       "      <th>2</th>\n",
       "      <td>saUsX_uimxRlCVr67Z4Jig</td>\n",
       "      <td>8g_iMtfSiwikVnbP2etR0A</td>\n",
       "      <td>YjUWPpI6HXG530lwP-fb2A</td>\n",
       "      <td>3</td>\n",
       "      <td>0</td>\n",
       "      <td>0</td>\n",
       "      <td>0</td>\n",
       "      <td>Family diner. Had the buffet. Eclectic assortm...</td>\n",
       "      <td>2014-02-05 20:30:30</td>\n",
       "    </tr>\n",
       "    <tr>\n",
       "      <th>3</th>\n",
       "      <td>AqPFMleE6RsU23_auESxiA</td>\n",
       "      <td>_7bHUi9Uuf5__HHc_Q8guQ</td>\n",
       "      <td>kxX2SOes4o-D3ZQBkiMRfA</td>\n",
       "      <td>5</td>\n",
       "      <td>1</td>\n",
       "      <td>0</td>\n",
       "      <td>1</td>\n",
       "      <td>Wow!  Yummy, different,  delicious.   Our favo...</td>\n",
       "      <td>2015-01-04 00:01:03</td>\n",
       "    </tr>\n",
       "    <tr>\n",
       "      <th>4</th>\n",
       "      <td>Sx8TMOWLNuJBWer-0pcmoA</td>\n",
       "      <td>bcjbaE6dDog4jkNY91ncLQ</td>\n",
       "      <td>e4Vwtrqf-wpJfwesgvdgxQ</td>\n",
       "      <td>4</td>\n",
       "      <td>1</td>\n",
       "      <td>0</td>\n",
       "      <td>1</td>\n",
       "      <td>Cute interior and owner (?) gave us tour of up...</td>\n",
       "      <td>2017-01-14 20:54:15</td>\n",
       "    </tr>\n",
       "  </tbody>\n",
       "</table>\n",
       "</div>"
      ],
      "text/plain": [
       "                review_id                 user_id             business_id  \\\n",
       "0  KU_O5udG6zpxOg-VcAEodg  mh_-eMZ6K5RLWhZyISBhwA  XQfwVwDr-v0ZS3_CbbE5Xw   \n",
       "1  BiTunyQ73aT9WBnpR9DZGw  OyoGAe7OKpv6SyGZT5g77Q  7ATYjTIgM3jUlt4UM3IypQ   \n",
       "2  saUsX_uimxRlCVr67Z4Jig  8g_iMtfSiwikVnbP2etR0A  YjUWPpI6HXG530lwP-fb2A   \n",
       "3  AqPFMleE6RsU23_auESxiA  _7bHUi9Uuf5__HHc_Q8guQ  kxX2SOes4o-D3ZQBkiMRfA   \n",
       "4  Sx8TMOWLNuJBWer-0pcmoA  bcjbaE6dDog4jkNY91ncLQ  e4Vwtrqf-wpJfwesgvdgxQ   \n",
       "\n",
       "   stars  useful  funny  cool  \\\n",
       "0      3       0      0     0   \n",
       "1      5       1      0     1   \n",
       "2      3       0      0     0   \n",
       "3      5       1      0     1   \n",
       "4      4       1      0     1   \n",
       "\n",
       "                                                text                date  \n",
       "0  If you decide to eat here, just be aware it is... 2018-07-07 22:09:11  \n",
       "1  I've taken a lot of spin classes over the year... 2012-01-03 15:28:18  \n",
       "2  Family diner. Had the buffet. Eclectic assortm... 2014-02-05 20:30:30  \n",
       "3  Wow!  Yummy, different,  delicious.   Our favo... 2015-01-04 00:01:03  \n",
       "4  Cute interior and owner (?) gave us tour of up... 2017-01-14 20:54:15  "
      ]
     },
     "execution_count": 73,
     "metadata": {},
     "output_type": "execute_result"
    }
   ],
   "source": [
    "reviews = pd.read_json(reviews_json_path, lines=True, chunksize=1000000)\n",
    "df_rev = pd.concat(reviews, ignore_index=True)\n",
    "df_rev.head()"
   ]
  },
  {
   "cell_type": "code",
   "execution_count": 84,
   "id": "e9306a09",
   "metadata": {},
   "outputs": [],
   "source": [
    "m = df_rev.business_id.isin(df_res.business_id)\n",
    "\n",
    "df_rev = df_rev[m]"
   ]
  },
  {
   "cell_type": "code",
   "execution_count": 87,
   "id": "2e3bfd1e",
   "metadata": {},
   "outputs": [],
   "source": [
    "df_rev = df_rev[['business_id', 'stars', 'text', 'date']]"
   ]
  },
  {
   "cell_type": "code",
   "execution_count": 88,
   "id": "01f15768",
   "metadata": {},
   "outputs": [],
   "source": [
    "df_rev.to_csv('Reviews')"
   ]
  }
 ],
 "metadata": {
  "kernelspec": {
   "display_name": "Python 3 (ipykernel)",
   "language": "python",
   "name": "python3"
  },
  "language_info": {
   "codemirror_mode": {
    "name": "ipython",
    "version": 3
   },
   "file_extension": ".py",
   "mimetype": "text/x-python",
   "name": "python",
   "nbconvert_exporter": "python",
   "pygments_lexer": "ipython3",
   "version": "3.8.12"
  }
 },
 "nbformat": 4,
 "nbformat_minor": 5
}
