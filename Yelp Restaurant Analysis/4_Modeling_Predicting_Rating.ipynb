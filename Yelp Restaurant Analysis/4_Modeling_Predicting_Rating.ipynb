{
 "cells": [
  {
   "cell_type": "markdown",
   "id": "b9a643e3",
   "metadata": {},
   "source": [
    "# Modeling\n"
   ]
  },
  {
   "cell_type": "code",
   "execution_count": 1,
   "id": "837d7a09",
   "metadata": {},
   "outputs": [],
   "source": [
    "#Import packages\n",
    "import pandas as pd\n",
    "import numpy as np\n",
    "import seaborn as sns\n",
    "import matplotlib.pyplot as plt\n",
    "import math\n",
    "\n",
    "from sklearn.preprocessing import StandardScaler\n",
    "from sklearn.model_selection import train_test_split, RandomizedSearchCV, cross_val_score  \n",
    "from sklearn.linear_model import LinearRegression, LogisticRegression\n",
    "from sklearn.ensemble import RandomForestClassifier, GradientBoostingClassifier\n",
    "from sklearn.tree import DecisionTreeClassifier\n",
    "from sklearn.neighbors import KNeighborsClassifier\n",
    "from sklearn.neural_network import MLPClassifier\n",
    "from sklearn.svm import SVC, LinearSVC\n",
    "\n",
    "from sklearn.metrics import roc_curve, auc, classification_report, confusion_matrix, accuracy_score"
   ]
  },
  {
   "cell_type": "code",
   "execution_count": 2,
   "id": "cede6512",
   "metadata": {},
   "outputs": [],
   "source": [
    "data = pd.read_csv('data.csv')"
   ]
  },
  {
   "cell_type": "code",
   "execution_count": 3,
   "id": "caba67d3",
   "metadata": {},
   "outputs": [
    {
     "data": {
      "text/html": [
       "<div>\n",
       "<style scoped>\n",
       "    .dataframe tbody tr th:only-of-type {\n",
       "        vertical-align: middle;\n",
       "    }\n",
       "\n",
       "    .dataframe tbody tr th {\n",
       "        vertical-align: top;\n",
       "    }\n",
       "\n",
       "    .dataframe thead th {\n",
       "        text-align: right;\n",
       "    }\n",
       "</style>\n",
       "<table border=\"1\" class=\"dataframe\">\n",
       "  <thead>\n",
       "    <tr style=\"text-align: right;\">\n",
       "      <th></th>\n",
       "      <th>Unnamed: 0</th>\n",
       "      <th>attributes.Ambience.divey</th>\n",
       "      <th>attributes.Dietary Restrictions.vegan</th>\n",
       "      <th>attributes.Happy Hour</th>\n",
       "      <th>attributes.Order at Counter</th>\n",
       "      <th>attributes.Outdoor Seating</th>\n",
       "      <th>attributes.Alcohol</th>\n",
       "      <th>attributes.Ambience.classy</th>\n",
       "      <th>attributes.Parking.lot</th>\n",
       "      <th>attributes.Ambience.touristy</th>\n",
       "      <th>...</th>\n",
       "      <th>attributes.Ambience.intimate</th>\n",
       "      <th>attributes.Good For.latenight</th>\n",
       "      <th>attributes.Good For.dinner</th>\n",
       "      <th>attributes.Good for Kids</th>\n",
       "      <th>attributes.Parking.validated</th>\n",
       "      <th>attributes.Has TV</th>\n",
       "      <th>attributes.Ambience.casual</th>\n",
       "      <th>attributes.Good For Groups</th>\n",
       "      <th>attributes.Ambience.romantic</th>\n",
       "      <th>attributes.Ambience.upscale</th>\n",
       "    </tr>\n",
       "  </thead>\n",
       "  <tbody>\n",
       "    <tr>\n",
       "      <th>count</th>\n",
       "      <td>18325.000000</td>\n",
       "      <td>18325.000000</td>\n",
       "      <td>18325.000000</td>\n",
       "      <td>18325.000000</td>\n",
       "      <td>18325.000000</td>\n",
       "      <td>18325.000000</td>\n",
       "      <td>18325.000000</td>\n",
       "      <td>18325.000000</td>\n",
       "      <td>18325.000000</td>\n",
       "      <td>18325.000000</td>\n",
       "      <td>...</td>\n",
       "      <td>18325.000000</td>\n",
       "      <td>18325.000000</td>\n",
       "      <td>18325.000000</td>\n",
       "      <td>18325.000000</td>\n",
       "      <td>18325.000000</td>\n",
       "      <td>18325.000000</td>\n",
       "      <td>18325.000000</td>\n",
       "      <td>18325.000000</td>\n",
       "      <td>18325.000000</td>\n",
       "      <td>18325.000000</td>\n",
       "    </tr>\n",
       "    <tr>\n",
       "      <th>mean</th>\n",
       "      <td>9162.000000</td>\n",
       "      <td>0.020518</td>\n",
       "      <td>0.003383</td>\n",
       "      <td>0.057080</td>\n",
       "      <td>0.011241</td>\n",
       "      <td>0.327585</td>\n",
       "      <td>0.536426</td>\n",
       "      <td>0.015007</td>\n",
       "      <td>0.539482</td>\n",
       "      <td>0.005184</td>\n",
       "      <td>...</td>\n",
       "      <td>0.005948</td>\n",
       "      <td>0.036344</td>\n",
       "      <td>0.397435</td>\n",
       "      <td>0.809986</td>\n",
       "      <td>0.003547</td>\n",
       "      <td>0.462156</td>\n",
       "      <td>0.502483</td>\n",
       "      <td>0.847749</td>\n",
       "      <td>0.009277</td>\n",
       "      <td>0.007040</td>\n",
       "    </tr>\n",
       "    <tr>\n",
       "      <th>std</th>\n",
       "      <td>5290.116177</td>\n",
       "      <td>0.141769</td>\n",
       "      <td>0.058070</td>\n",
       "      <td>0.232003</td>\n",
       "      <td>0.105431</td>\n",
       "      <td>0.469345</td>\n",
       "      <td>0.498685</td>\n",
       "      <td>0.121583</td>\n",
       "      <td>0.498452</td>\n",
       "      <td>0.071816</td>\n",
       "      <td>...</td>\n",
       "      <td>0.076897</td>\n",
       "      <td>0.187149</td>\n",
       "      <td>0.489381</td>\n",
       "      <td>0.392322</td>\n",
       "      <td>0.059453</td>\n",
       "      <td>0.498579</td>\n",
       "      <td>0.500007</td>\n",
       "      <td>0.359274</td>\n",
       "      <td>0.095872</td>\n",
       "      <td>0.083609</td>\n",
       "    </tr>\n",
       "    <tr>\n",
       "      <th>min</th>\n",
       "      <td>0.000000</td>\n",
       "      <td>0.000000</td>\n",
       "      <td>0.000000</td>\n",
       "      <td>0.000000</td>\n",
       "      <td>0.000000</td>\n",
       "      <td>0.000000</td>\n",
       "      <td>0.000000</td>\n",
       "      <td>0.000000</td>\n",
       "      <td>0.000000</td>\n",
       "      <td>0.000000</td>\n",
       "      <td>...</td>\n",
       "      <td>0.000000</td>\n",
       "      <td>0.000000</td>\n",
       "      <td>0.000000</td>\n",
       "      <td>0.000000</td>\n",
       "      <td>0.000000</td>\n",
       "      <td>0.000000</td>\n",
       "      <td>0.000000</td>\n",
       "      <td>0.000000</td>\n",
       "      <td>0.000000</td>\n",
       "      <td>0.000000</td>\n",
       "    </tr>\n",
       "    <tr>\n",
       "      <th>25%</th>\n",
       "      <td>4581.000000</td>\n",
       "      <td>0.000000</td>\n",
       "      <td>0.000000</td>\n",
       "      <td>0.000000</td>\n",
       "      <td>0.000000</td>\n",
       "      <td>0.000000</td>\n",
       "      <td>0.000000</td>\n",
       "      <td>0.000000</td>\n",
       "      <td>0.000000</td>\n",
       "      <td>0.000000</td>\n",
       "      <td>...</td>\n",
       "      <td>0.000000</td>\n",
       "      <td>0.000000</td>\n",
       "      <td>0.000000</td>\n",
       "      <td>1.000000</td>\n",
       "      <td>0.000000</td>\n",
       "      <td>0.000000</td>\n",
       "      <td>0.000000</td>\n",
       "      <td>1.000000</td>\n",
       "      <td>0.000000</td>\n",
       "      <td>0.000000</td>\n",
       "    </tr>\n",
       "    <tr>\n",
       "      <th>50%</th>\n",
       "      <td>9162.000000</td>\n",
       "      <td>0.000000</td>\n",
       "      <td>0.000000</td>\n",
       "      <td>0.000000</td>\n",
       "      <td>0.000000</td>\n",
       "      <td>0.000000</td>\n",
       "      <td>1.000000</td>\n",
       "      <td>0.000000</td>\n",
       "      <td>1.000000</td>\n",
       "      <td>0.000000</td>\n",
       "      <td>...</td>\n",
       "      <td>0.000000</td>\n",
       "      <td>0.000000</td>\n",
       "      <td>0.000000</td>\n",
       "      <td>1.000000</td>\n",
       "      <td>0.000000</td>\n",
       "      <td>0.000000</td>\n",
       "      <td>1.000000</td>\n",
       "      <td>1.000000</td>\n",
       "      <td>0.000000</td>\n",
       "      <td>0.000000</td>\n",
       "    </tr>\n",
       "    <tr>\n",
       "      <th>75%</th>\n",
       "      <td>13743.000000</td>\n",
       "      <td>0.000000</td>\n",
       "      <td>0.000000</td>\n",
       "      <td>0.000000</td>\n",
       "      <td>0.000000</td>\n",
       "      <td>1.000000</td>\n",
       "      <td>1.000000</td>\n",
       "      <td>0.000000</td>\n",
       "      <td>1.000000</td>\n",
       "      <td>0.000000</td>\n",
       "      <td>...</td>\n",
       "      <td>0.000000</td>\n",
       "      <td>0.000000</td>\n",
       "      <td>1.000000</td>\n",
       "      <td>1.000000</td>\n",
       "      <td>0.000000</td>\n",
       "      <td>1.000000</td>\n",
       "      <td>1.000000</td>\n",
       "      <td>1.000000</td>\n",
       "      <td>0.000000</td>\n",
       "      <td>0.000000</td>\n",
       "    </tr>\n",
       "    <tr>\n",
       "      <th>max</th>\n",
       "      <td>18324.000000</td>\n",
       "      <td>1.000000</td>\n",
       "      <td>1.000000</td>\n",
       "      <td>1.000000</td>\n",
       "      <td>1.000000</td>\n",
       "      <td>1.000000</td>\n",
       "      <td>1.000000</td>\n",
       "      <td>1.000000</td>\n",
       "      <td>1.000000</td>\n",
       "      <td>1.000000</td>\n",
       "      <td>...</td>\n",
       "      <td>1.000000</td>\n",
       "      <td>1.000000</td>\n",
       "      <td>1.000000</td>\n",
       "      <td>1.000000</td>\n",
       "      <td>1.000000</td>\n",
       "      <td>1.000000</td>\n",
       "      <td>1.000000</td>\n",
       "      <td>1.000000</td>\n",
       "      <td>1.000000</td>\n",
       "      <td>1.000000</td>\n",
       "    </tr>\n",
       "  </tbody>\n",
       "</table>\n",
       "<p>8 rows × 44 columns</p>\n",
       "</div>"
      ],
      "text/plain": [
       "         Unnamed: 0  attributes.Ambience.divey  \\\n",
       "count  18325.000000               18325.000000   \n",
       "mean    9162.000000                   0.020518   \n",
       "std     5290.116177                   0.141769   \n",
       "min        0.000000                   0.000000   \n",
       "25%     4581.000000                   0.000000   \n",
       "50%     9162.000000                   0.000000   \n",
       "75%    13743.000000                   0.000000   \n",
       "max    18324.000000                   1.000000   \n",
       "\n",
       "       attributes.Dietary Restrictions.vegan  attributes.Happy Hour  \\\n",
       "count                           18325.000000           18325.000000   \n",
       "mean                                0.003383               0.057080   \n",
       "std                                 0.058070               0.232003   \n",
       "min                                 0.000000               0.000000   \n",
       "25%                                 0.000000               0.000000   \n",
       "50%                                 0.000000               0.000000   \n",
       "75%                                 0.000000               0.000000   \n",
       "max                                 1.000000               1.000000   \n",
       "\n",
       "       attributes.Order at Counter  attributes.Outdoor Seating  \\\n",
       "count                 18325.000000                18325.000000   \n",
       "mean                      0.011241                    0.327585   \n",
       "std                       0.105431                    0.469345   \n",
       "min                       0.000000                    0.000000   \n",
       "25%                       0.000000                    0.000000   \n",
       "50%                       0.000000                    0.000000   \n",
       "75%                       0.000000                    1.000000   \n",
       "max                       1.000000                    1.000000   \n",
       "\n",
       "       attributes.Alcohol  attributes.Ambience.classy  attributes.Parking.lot  \\\n",
       "count        18325.000000                18325.000000            18325.000000   \n",
       "mean             0.536426                    0.015007                0.539482   \n",
       "std              0.498685                    0.121583                0.498452   \n",
       "min              0.000000                    0.000000                0.000000   \n",
       "25%              0.000000                    0.000000                0.000000   \n",
       "50%              1.000000                    0.000000                1.000000   \n",
       "75%              1.000000                    0.000000                1.000000   \n",
       "max              1.000000                    1.000000                1.000000   \n",
       "\n",
       "       attributes.Ambience.touristy  ...  attributes.Ambience.intimate  \\\n",
       "count                  18325.000000  ...                  18325.000000   \n",
       "mean                       0.005184  ...                      0.005948   \n",
       "std                        0.071816  ...                      0.076897   \n",
       "min                        0.000000  ...                      0.000000   \n",
       "25%                        0.000000  ...                      0.000000   \n",
       "50%                        0.000000  ...                      0.000000   \n",
       "75%                        0.000000  ...                      0.000000   \n",
       "max                        1.000000  ...                      1.000000   \n",
       "\n",
       "       attributes.Good For.latenight  attributes.Good For.dinner  \\\n",
       "count                   18325.000000                18325.000000   \n",
       "mean                        0.036344                    0.397435   \n",
       "std                         0.187149                    0.489381   \n",
       "min                         0.000000                    0.000000   \n",
       "25%                         0.000000                    0.000000   \n",
       "50%                         0.000000                    0.000000   \n",
       "75%                         0.000000                    1.000000   \n",
       "max                         1.000000                    1.000000   \n",
       "\n",
       "       attributes.Good for Kids  attributes.Parking.validated  \\\n",
       "count              18325.000000                  18325.000000   \n",
       "mean                   0.809986                      0.003547   \n",
       "std                    0.392322                      0.059453   \n",
       "min                    0.000000                      0.000000   \n",
       "25%                    1.000000                      0.000000   \n",
       "50%                    1.000000                      0.000000   \n",
       "75%                    1.000000                      0.000000   \n",
       "max                    1.000000                      1.000000   \n",
       "\n",
       "       attributes.Has TV  attributes.Ambience.casual  \\\n",
       "count       18325.000000                18325.000000   \n",
       "mean            0.462156                    0.502483   \n",
       "std             0.498579                    0.500007   \n",
       "min             0.000000                    0.000000   \n",
       "25%             0.000000                    0.000000   \n",
       "50%             0.000000                    1.000000   \n",
       "75%             1.000000                    1.000000   \n",
       "max             1.000000                    1.000000   \n",
       "\n",
       "       attributes.Good For Groups  attributes.Ambience.romantic  \\\n",
       "count                18325.000000                  18325.000000   \n",
       "mean                     0.847749                      0.009277   \n",
       "std                      0.359274                      0.095872   \n",
       "min                      0.000000                      0.000000   \n",
       "25%                      1.000000                      0.000000   \n",
       "50%                      1.000000                      0.000000   \n",
       "75%                      1.000000                      0.000000   \n",
       "max                      1.000000                      1.000000   \n",
       "\n",
       "       attributes.Ambience.upscale  \n",
       "count                 18325.000000  \n",
       "mean                      0.007040  \n",
       "std                       0.083609  \n",
       "min                       0.000000  \n",
       "25%                       0.000000  \n",
       "50%                       0.000000  \n",
       "75%                       0.000000  \n",
       "max                       1.000000  \n",
       "\n",
       "[8 rows x 44 columns]"
      ]
     },
     "execution_count": 3,
     "metadata": {},
     "output_type": "execute_result"
    }
   ],
   "source": [
    "data.describe()"
   ]
  },
  {
   "cell_type": "code",
   "execution_count": 23,
   "id": "08704548",
   "metadata": {},
   "outputs": [],
   "source": [
    "data['stars'] = data['stars'].apply(np.int64)"
   ]
  },
  {
   "cell_type": "code",
   "execution_count": 24,
   "id": "aa1f0b19",
   "metadata": {},
   "outputs": [
    {
     "data": {
      "text/plain": [
       "Unnamed: 0                                    int64\n",
       "attributes.Ambience.divey                     int64\n",
       "attributes.Dietary Restrictions.vegan         int64\n",
       "attributes.Happy Hour                         int64\n",
       "attributes.Order at Counter                   int64\n",
       "attributes.Outdoor Seating                    int64\n",
       "attributes.Alcohol                            int64\n",
       "attributes.Ambience.classy                    int64\n",
       "attributes.Parking.lot                        int64\n",
       "attributes.Ambience.touristy                  int64\n",
       "attributes.Good For.brunch                    int64\n",
       "attributes.Waiter Service                     int64\n",
       "attributes.Parking.street                     int64\n",
       "attributes.Ambience.hipster                   int64\n",
       "attributes.Music.live                         int64\n",
       "attributes.Dietary Restrictions.dairy-free    int64\n",
       "attributes.Music.background_music             int64\n",
       "attributes.Price Range                        int64\n",
       "attributes.Good For.breakfast                 int64\n",
       "attributes.Parking.garage                     int64\n",
       "attributes.Music.karaoke                      int64\n",
       "review_count                                  int64\n",
       "attributes.Good For.lunch                     int64\n",
       "attributes.Parking.valet                      int64\n",
       "attributes.Take-out                           int64\n",
       "attributes.Good For.dessert                   int64\n",
       "attributes.Takes Reservations                 int64\n",
       "attributes.Ambience.trendy                    int64\n",
       "attributes.Delivery                           int64\n",
       "attributes.Wi-Fi                              int64\n",
       "open                                          int64\n",
       "attributes.Wheelchair Accessible              int64\n",
       "stars                                         int64\n",
       "attributes.Caters                             int64\n",
       "attributes.Ambience.intimate                  int64\n",
       "attributes.Good For.latenight                 int64\n",
       "attributes.Good For.dinner                    int64\n",
       "attributes.Good for Kids                      int64\n",
       "attributes.Parking.validated                  int64\n",
       "attributes.Has TV                             int64\n",
       "attributes.Ambience.casual                    int64\n",
       "attributes.Good For Groups                    int64\n",
       "attributes.Ambience.romantic                  int64\n",
       "attributes.Ambience.upscale                   int64\n",
       "dtype: object"
      ]
     },
     "execution_count": 24,
     "metadata": {},
     "output_type": "execute_result"
    }
   ],
   "source": [
    "data.dtypes"
   ]
  },
  {
   "cell_type": "code",
   "execution_count": 26,
   "id": "131e8884",
   "metadata": {},
   "outputs": [
    {
     "data": {
      "text/plain": [
       "5"
      ]
     },
     "execution_count": 26,
     "metadata": {},
     "output_type": "execute_result"
    }
   ],
   "source": [
    "data.stars.nunique()"
   ]
  },
  {
   "cell_type": "code",
   "execution_count": 27,
   "id": "8535ef6e",
   "metadata": {},
   "outputs": [],
   "source": [
    "#Shuffle dataset\n",
    "\n",
    "data = data.sample(frac=1, random_state=25).reset_index(drop=True)"
   ]
  },
  {
   "cell_type": "code",
   "execution_count": 28,
   "id": "012d2bdc",
   "metadata": {},
   "outputs": [],
   "source": [
    "#preprocessing & split data into y, X and then into train and test.\n",
    "def preprocess_inputs(dataframe):\n",
    "    #Split y, X\n",
    "    y= dataframe['stars']\n",
    "    X=dataframe.drop('stars', axis=1)\n",
    "    X_train, X_test, y_train, y_test = train_test_split(X, y, train_size=.7, shuffle=True, random_state=25)\n",
    "    return X_train, X_test, y_train, y_test"
   ]
  },
  {
   "cell_type": "code",
   "execution_count": 29,
   "id": "0e13b025",
   "metadata": {},
   "outputs": [],
   "source": [
    "X_train, X_test, y_train, y_test = preprocess_inputs(data)"
   ]
  },
  {
   "cell_type": "code",
   "execution_count": 30,
   "id": "fa80874b",
   "metadata": {},
   "outputs": [
    {
     "data": {
      "text/plain": [
       "3    5658\n",
       "4    4967\n",
       "2    1624\n",
       "5     347\n",
       "1     231\n",
       "Name: stars, dtype: int64"
      ]
     },
     "execution_count": 30,
     "metadata": {},
     "output_type": "execute_result"
    }
   ],
   "source": [
    "y_train.value_counts()"
   ]
  },
  {
   "cell_type": "code",
   "execution_count": 31,
   "id": "08b6f914",
   "metadata": {},
   "outputs": [
    {
     "data": {
      "text/plain": [
       "3    2435\n",
       "4    2115\n",
       "2     717\n",
       "5     141\n",
       "1      90\n",
       "Name: stars, dtype: int64"
      ]
     },
     "execution_count": 31,
     "metadata": {},
     "output_type": "execute_result"
    }
   ],
   "source": [
    "y_test.value_counts()"
   ]
  },
  {
   "cell_type": "markdown",
   "id": "ca3ca851",
   "metadata": {},
   "source": [
    "#### Logistic Regression"
   ]
  },
  {
   "cell_type": "code",
   "execution_count": 32,
   "id": "62e45c5d",
   "metadata": {},
   "outputs": [
    {
     "name": "stdout",
     "output_type": "stream",
     "text": [
      "Logistic Regression: 48.74%\n"
     ]
    },
    {
     "name": "stderr",
     "output_type": "stream",
     "text": [
      "C:\\Users\\ziggy\\anaconda3\\envs\\Springboard\\lib\\site-packages\\sklearn\\linear_model\\_logistic.py:814: ConvergenceWarning: lbfgs failed to converge (status=1):\n",
      "STOP: TOTAL NO. of ITERATIONS REACHED LIMIT.\n",
      "\n",
      "Increase the number of iterations (max_iter) or scale the data as shown in:\n",
      "    https://scikit-learn.org/stable/modules/preprocessing.html\n",
      "Please also refer to the documentation for alternative solver options:\n",
      "    https://scikit-learn.org/stable/modules/linear_model.html#logistic-regression\n",
      "  n_iter_i = _check_optimize_result(\n"
     ]
    }
   ],
   "source": [
    "logistic_model = LogisticRegression()\n",
    "logistic_model.fit(X_train, y_train)\n",
    "\n",
    "y_pred_logistic = logistic_model.decision_function(X_test)\n",
    "    \n",
    "print(\"Logistic Regression:\" + \" {:.2f}%\".format(logistic_model.score(X_test, y_test)*100))\n"
   ]
  },
  {
   "cell_type": "code",
   "execution_count": 33,
   "id": "5a2fdaaf",
   "metadata": {},
   "outputs": [
    {
     "name": "stdout",
     "output_type": "stream",
     "text": [
      "K-Nearest Neighbors: 42.80%\n"
     ]
    }
   ],
   "source": [
    "KNN_model = KNeighborsClassifier()\n",
    "KNN_model.fit(X_train, y_train)\n",
    "\n",
    "y_pred_KNN = KNN_model.predict_proba(X_test)\n",
    "    \n",
    "print(\"K-Nearest Neighbors:\" + \" {:.2f}%\".format(KNN_model.score(X_test, y_test)*100))\n"
   ]
  },
  {
   "cell_type": "markdown",
   "id": "ec02785d",
   "metadata": {},
   "source": [
    "#### Decision Tree"
   ]
  },
  {
   "cell_type": "code",
   "execution_count": 34,
   "id": "890e5659",
   "metadata": {},
   "outputs": [
    {
     "name": "stdout",
     "output_type": "stream",
     "text": [
      "Decision Tree: 41.51%\n"
     ]
    }
   ],
   "source": [
    "Tree_model = DecisionTreeClassifier()\n",
    "Tree_model.fit(X_train, y_train)\n",
    "\n",
    "y_pred_tree = Tree_model.predict(X_test)\n",
    "    \n",
    "print(\"Decision Tree:\" + \" {:.2f}%\".format(Tree_model.score(X_test, y_test)*100))"
   ]
  },
  {
   "cell_type": "code",
   "execution_count": 35,
   "id": "3e1d52cd",
   "metadata": {},
   "outputs": [
    {
     "name": "stdout",
     "output_type": "stream",
     "text": [
      "[[   4   23   39   21    3]\n",
      " [  31  164  320  179   23]\n",
      " [  55  334 1163  821   62]\n",
      " [  40  214  860  939   62]\n",
      " [   1   20   59   49   12]]\n",
      "              precision    recall  f1-score   support\n",
      "\n",
      "           1       0.03      0.04      0.04        90\n",
      "           2       0.22      0.23      0.22       717\n",
      "           3       0.48      0.48      0.48      2435\n",
      "           4       0.47      0.44      0.46      2115\n",
      "           5       0.07      0.09      0.08       141\n",
      "\n",
      "    accuracy                           0.42      5498\n",
      "   macro avg       0.25      0.26      0.25      5498\n",
      "weighted avg       0.42      0.42      0.42      5498\n",
      "\n"
     ]
    }
   ],
   "source": [
    "print(confusion_matrix(y_test, y_pred_tree))\n",
    "print(classification_report(y_test, y_pred_tree))"
   ]
  },
  {
   "cell_type": "markdown",
   "id": "859b96ad",
   "metadata": {},
   "source": [
    "#### Support Vector MAchine (linear kerenel)"
   ]
  },
  {
   "cell_type": "code",
   "execution_count": 36,
   "id": "e9b79d21",
   "metadata": {},
   "outputs": [
    {
     "name": "stdout",
     "output_type": "stream",
     "text": [
      "Support Vector Machine (Linear Kernel): 22.12%\n"
     ]
    },
    {
     "name": "stderr",
     "output_type": "stream",
     "text": [
      "C:\\Users\\ziggy\\anaconda3\\envs\\Springboard\\lib\\site-packages\\sklearn\\svm\\_base.py:1206: ConvergenceWarning: Liblinear failed to converge, increase the number of iterations.\n",
      "  warnings.warn(\n"
     ]
    }
   ],
   "source": [
    "SVM_model = LinearSVC()\n",
    "SVM_model.fit(X_train, y_train)\n",
    "\n",
    "y_pred_SVM = SVM_model.decision_function(X_test)\n",
    "    \n",
    "print(\"Support Vector Machine (Linear Kernel):\" + \" {:.2f}%\".format(SVM_model.score(X_test, y_test)*100))\n"
   ]
  },
  {
   "cell_type": "code",
   "execution_count": null,
   "id": "9607ad74",
   "metadata": {},
   "outputs": [],
   "source": []
  },
  {
   "cell_type": "code",
   "execution_count": null,
   "id": "a64e533d",
   "metadata": {},
   "outputs": [],
   "source": []
  },
  {
   "cell_type": "code",
   "execution_count": null,
   "id": "db58b9a0",
   "metadata": {},
   "outputs": [],
   "source": []
  }
 ],
 "metadata": {
  "kernelspec": {
   "display_name": "Python 3 (ipykernel)",
   "language": "python",
   "name": "python3"
  },
  "language_info": {
   "codemirror_mode": {
    "name": "ipython",
    "version": 3
   },
   "file_extension": ".py",
   "mimetype": "text/x-python",
   "name": "python",
   "nbconvert_exporter": "python",
   "pygments_lexer": "ipython3",
   "version": "3.8.12"
  }
 },
 "nbformat": 4,
 "nbformat_minor": 5
}
