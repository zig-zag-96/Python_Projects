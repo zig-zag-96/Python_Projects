{
 "cells": [
  {
   "cell_type": "markdown",
   "id": "d2b3cb98",
   "metadata": {},
   "source": [
    "# Modeling"
   ]
  },
  {
   "cell_type": "markdown",
   "id": "5b48f02f",
   "metadata": {},
   "source": [
    "The idea will be to split the data into train and test and see if we can predict the closure of a restaurant based on the attributes. "
   ]
  },
  {
   "cell_type": "code",
   "execution_count": 7,
   "id": "5453ce00",
   "metadata": {},
   "outputs": [],
   "source": [
    "#Import packages\n",
    "import pandas as pd\n",
    "import numpy as np\n",
    "import seaborn as sns\n",
    "import matplotlib.pyplot as plt\n",
    "import math\n",
    "\n",
    "from sklearn.preprocessing import StandardScaler\n",
    "from sklearn.model_selection import train_test_split, RandomizedSearchCV, cross_val_score  \n",
    "from sklearn.linear_model import LinearRegression, LogisticRegression\n",
    "from sklearn.ensemble import RandomForestClassifier, GradientBoostingClassifier\n",
    "from sklearn.tree import DecisionTreeClassifier\n",
    "from sklearn.neighbors import KNeighborsClassifier\n",
    "from sklearn.neural_network import MLPClassifier\n",
    "from sklearn.svm import SVC, LinearSVC\n",
    "\n",
    "from sklearn.metrics import roc_curve, auc, classification_report, confusion_matrix, accuracy_score"
   ]
  },
  {
   "cell_type": "code",
   "execution_count": 8,
   "id": "97a91b02",
   "metadata": {},
   "outputs": [],
   "source": [
    "data = pd.read_csv('data.csv')"
   ]
  },
  {
   "cell_type": "code",
   "execution_count": 9,
   "id": "ff0e273b",
   "metadata": {},
   "outputs": [
    {
     "data": {
      "text/html": [
       "<div>\n",
       "<style scoped>\n",
       "    .dataframe tbody tr th:only-of-type {\n",
       "        vertical-align: middle;\n",
       "    }\n",
       "\n",
       "    .dataframe tbody tr th {\n",
       "        vertical-align: top;\n",
       "    }\n",
       "\n",
       "    .dataframe thead th {\n",
       "        text-align: right;\n",
       "    }\n",
       "</style>\n",
       "<table border=\"1\" class=\"dataframe\">\n",
       "  <thead>\n",
       "    <tr style=\"text-align: right;\">\n",
       "      <th></th>\n",
       "      <th>Unnamed: 0</th>\n",
       "      <th>attributes.Ambience.divey</th>\n",
       "      <th>attributes.Dietary Restrictions.vegan</th>\n",
       "      <th>attributes.Happy Hour</th>\n",
       "      <th>attributes.Order at Counter</th>\n",
       "      <th>attributes.Outdoor Seating</th>\n",
       "      <th>attributes.Alcohol</th>\n",
       "      <th>attributes.Ambience.classy</th>\n",
       "      <th>attributes.Parking.lot</th>\n",
       "      <th>attributes.Ambience.touristy</th>\n",
       "      <th>...</th>\n",
       "      <th>attributes.Ambience.intimate</th>\n",
       "      <th>attributes.Good For.latenight</th>\n",
       "      <th>attributes.Good For.dinner</th>\n",
       "      <th>attributes.Good for Kids</th>\n",
       "      <th>attributes.Parking.validated</th>\n",
       "      <th>attributes.Has TV</th>\n",
       "      <th>attributes.Ambience.casual</th>\n",
       "      <th>attributes.Good For Groups</th>\n",
       "      <th>attributes.Ambience.romantic</th>\n",
       "      <th>attributes.Ambience.upscale</th>\n",
       "    </tr>\n",
       "  </thead>\n",
       "  <tbody>\n",
       "    <tr>\n",
       "      <th>count</th>\n",
       "      <td>18325.000000</td>\n",
       "      <td>18325.000000</td>\n",
       "      <td>18325.000000</td>\n",
       "      <td>18325.000000</td>\n",
       "      <td>18325.000000</td>\n",
       "      <td>18325.000000</td>\n",
       "      <td>18325.000000</td>\n",
       "      <td>18325.000000</td>\n",
       "      <td>18325.000000</td>\n",
       "      <td>18325.000000</td>\n",
       "      <td>...</td>\n",
       "      <td>18325.000000</td>\n",
       "      <td>18325.000000</td>\n",
       "      <td>18325.000000</td>\n",
       "      <td>18325.000000</td>\n",
       "      <td>18325.000000</td>\n",
       "      <td>18325.000000</td>\n",
       "      <td>18325.000000</td>\n",
       "      <td>18325.000000</td>\n",
       "      <td>18325.000000</td>\n",
       "      <td>18325.000000</td>\n",
       "    </tr>\n",
       "    <tr>\n",
       "      <th>mean</th>\n",
       "      <td>9162.000000</td>\n",
       "      <td>0.020518</td>\n",
       "      <td>0.003383</td>\n",
       "      <td>0.057080</td>\n",
       "      <td>0.011241</td>\n",
       "      <td>0.327585</td>\n",
       "      <td>0.536426</td>\n",
       "      <td>0.015007</td>\n",
       "      <td>0.539482</td>\n",
       "      <td>0.005184</td>\n",
       "      <td>...</td>\n",
       "      <td>0.005948</td>\n",
       "      <td>0.036344</td>\n",
       "      <td>0.397435</td>\n",
       "      <td>0.809986</td>\n",
       "      <td>0.003547</td>\n",
       "      <td>0.462156</td>\n",
       "      <td>0.502483</td>\n",
       "      <td>0.847749</td>\n",
       "      <td>0.009277</td>\n",
       "      <td>0.007040</td>\n",
       "    </tr>\n",
       "    <tr>\n",
       "      <th>std</th>\n",
       "      <td>5290.116177</td>\n",
       "      <td>0.141769</td>\n",
       "      <td>0.058070</td>\n",
       "      <td>0.232003</td>\n",
       "      <td>0.105431</td>\n",
       "      <td>0.469345</td>\n",
       "      <td>0.498685</td>\n",
       "      <td>0.121583</td>\n",
       "      <td>0.498452</td>\n",
       "      <td>0.071816</td>\n",
       "      <td>...</td>\n",
       "      <td>0.076897</td>\n",
       "      <td>0.187149</td>\n",
       "      <td>0.489381</td>\n",
       "      <td>0.392322</td>\n",
       "      <td>0.059453</td>\n",
       "      <td>0.498579</td>\n",
       "      <td>0.500007</td>\n",
       "      <td>0.359274</td>\n",
       "      <td>0.095872</td>\n",
       "      <td>0.083609</td>\n",
       "    </tr>\n",
       "    <tr>\n",
       "      <th>min</th>\n",
       "      <td>0.000000</td>\n",
       "      <td>0.000000</td>\n",
       "      <td>0.000000</td>\n",
       "      <td>0.000000</td>\n",
       "      <td>0.000000</td>\n",
       "      <td>0.000000</td>\n",
       "      <td>0.000000</td>\n",
       "      <td>0.000000</td>\n",
       "      <td>0.000000</td>\n",
       "      <td>0.000000</td>\n",
       "      <td>...</td>\n",
       "      <td>0.000000</td>\n",
       "      <td>0.000000</td>\n",
       "      <td>0.000000</td>\n",
       "      <td>0.000000</td>\n",
       "      <td>0.000000</td>\n",
       "      <td>0.000000</td>\n",
       "      <td>0.000000</td>\n",
       "      <td>0.000000</td>\n",
       "      <td>0.000000</td>\n",
       "      <td>0.000000</td>\n",
       "    </tr>\n",
       "    <tr>\n",
       "      <th>25%</th>\n",
       "      <td>4581.000000</td>\n",
       "      <td>0.000000</td>\n",
       "      <td>0.000000</td>\n",
       "      <td>0.000000</td>\n",
       "      <td>0.000000</td>\n",
       "      <td>0.000000</td>\n",
       "      <td>0.000000</td>\n",
       "      <td>0.000000</td>\n",
       "      <td>0.000000</td>\n",
       "      <td>0.000000</td>\n",
       "      <td>...</td>\n",
       "      <td>0.000000</td>\n",
       "      <td>0.000000</td>\n",
       "      <td>0.000000</td>\n",
       "      <td>1.000000</td>\n",
       "      <td>0.000000</td>\n",
       "      <td>0.000000</td>\n",
       "      <td>0.000000</td>\n",
       "      <td>1.000000</td>\n",
       "      <td>0.000000</td>\n",
       "      <td>0.000000</td>\n",
       "    </tr>\n",
       "    <tr>\n",
       "      <th>50%</th>\n",
       "      <td>9162.000000</td>\n",
       "      <td>0.000000</td>\n",
       "      <td>0.000000</td>\n",
       "      <td>0.000000</td>\n",
       "      <td>0.000000</td>\n",
       "      <td>0.000000</td>\n",
       "      <td>1.000000</td>\n",
       "      <td>0.000000</td>\n",
       "      <td>1.000000</td>\n",
       "      <td>0.000000</td>\n",
       "      <td>...</td>\n",
       "      <td>0.000000</td>\n",
       "      <td>0.000000</td>\n",
       "      <td>0.000000</td>\n",
       "      <td>1.000000</td>\n",
       "      <td>0.000000</td>\n",
       "      <td>0.000000</td>\n",
       "      <td>1.000000</td>\n",
       "      <td>1.000000</td>\n",
       "      <td>0.000000</td>\n",
       "      <td>0.000000</td>\n",
       "    </tr>\n",
       "    <tr>\n",
       "      <th>75%</th>\n",
       "      <td>13743.000000</td>\n",
       "      <td>0.000000</td>\n",
       "      <td>0.000000</td>\n",
       "      <td>0.000000</td>\n",
       "      <td>0.000000</td>\n",
       "      <td>1.000000</td>\n",
       "      <td>1.000000</td>\n",
       "      <td>0.000000</td>\n",
       "      <td>1.000000</td>\n",
       "      <td>0.000000</td>\n",
       "      <td>...</td>\n",
       "      <td>0.000000</td>\n",
       "      <td>0.000000</td>\n",
       "      <td>1.000000</td>\n",
       "      <td>1.000000</td>\n",
       "      <td>0.000000</td>\n",
       "      <td>1.000000</td>\n",
       "      <td>1.000000</td>\n",
       "      <td>1.000000</td>\n",
       "      <td>0.000000</td>\n",
       "      <td>0.000000</td>\n",
       "    </tr>\n",
       "    <tr>\n",
       "      <th>max</th>\n",
       "      <td>18324.000000</td>\n",
       "      <td>1.000000</td>\n",
       "      <td>1.000000</td>\n",
       "      <td>1.000000</td>\n",
       "      <td>1.000000</td>\n",
       "      <td>1.000000</td>\n",
       "      <td>1.000000</td>\n",
       "      <td>1.000000</td>\n",
       "      <td>1.000000</td>\n",
       "      <td>1.000000</td>\n",
       "      <td>...</td>\n",
       "      <td>1.000000</td>\n",
       "      <td>1.000000</td>\n",
       "      <td>1.000000</td>\n",
       "      <td>1.000000</td>\n",
       "      <td>1.000000</td>\n",
       "      <td>1.000000</td>\n",
       "      <td>1.000000</td>\n",
       "      <td>1.000000</td>\n",
       "      <td>1.000000</td>\n",
       "      <td>1.000000</td>\n",
       "    </tr>\n",
       "  </tbody>\n",
       "</table>\n",
       "<p>8 rows × 44 columns</p>\n",
       "</div>"
      ],
      "text/plain": [
       "         Unnamed: 0  attributes.Ambience.divey  \\\n",
       "count  18325.000000               18325.000000   \n",
       "mean    9162.000000                   0.020518   \n",
       "std     5290.116177                   0.141769   \n",
       "min        0.000000                   0.000000   \n",
       "25%     4581.000000                   0.000000   \n",
       "50%     9162.000000                   0.000000   \n",
       "75%    13743.000000                   0.000000   \n",
       "max    18324.000000                   1.000000   \n",
       "\n",
       "       attributes.Dietary Restrictions.vegan  attributes.Happy Hour  \\\n",
       "count                           18325.000000           18325.000000   \n",
       "mean                                0.003383               0.057080   \n",
       "std                                 0.058070               0.232003   \n",
       "min                                 0.000000               0.000000   \n",
       "25%                                 0.000000               0.000000   \n",
       "50%                                 0.000000               0.000000   \n",
       "75%                                 0.000000               0.000000   \n",
       "max                                 1.000000               1.000000   \n",
       "\n",
       "       attributes.Order at Counter  attributes.Outdoor Seating  \\\n",
       "count                 18325.000000                18325.000000   \n",
       "mean                      0.011241                    0.327585   \n",
       "std                       0.105431                    0.469345   \n",
       "min                       0.000000                    0.000000   \n",
       "25%                       0.000000                    0.000000   \n",
       "50%                       0.000000                    0.000000   \n",
       "75%                       0.000000                    1.000000   \n",
       "max                       1.000000                    1.000000   \n",
       "\n",
       "       attributes.Alcohol  attributes.Ambience.classy  attributes.Parking.lot  \\\n",
       "count        18325.000000                18325.000000            18325.000000   \n",
       "mean             0.536426                    0.015007                0.539482   \n",
       "std              0.498685                    0.121583                0.498452   \n",
       "min              0.000000                    0.000000                0.000000   \n",
       "25%              0.000000                    0.000000                0.000000   \n",
       "50%              1.000000                    0.000000                1.000000   \n",
       "75%              1.000000                    0.000000                1.000000   \n",
       "max              1.000000                    1.000000                1.000000   \n",
       "\n",
       "       attributes.Ambience.touristy  ...  attributes.Ambience.intimate  \\\n",
       "count                  18325.000000  ...                  18325.000000   \n",
       "mean                       0.005184  ...                      0.005948   \n",
       "std                        0.071816  ...                      0.076897   \n",
       "min                        0.000000  ...                      0.000000   \n",
       "25%                        0.000000  ...                      0.000000   \n",
       "50%                        0.000000  ...                      0.000000   \n",
       "75%                        0.000000  ...                      0.000000   \n",
       "max                        1.000000  ...                      1.000000   \n",
       "\n",
       "       attributes.Good For.latenight  attributes.Good For.dinner  \\\n",
       "count                   18325.000000                18325.000000   \n",
       "mean                        0.036344                    0.397435   \n",
       "std                         0.187149                    0.489381   \n",
       "min                         0.000000                    0.000000   \n",
       "25%                         0.000000                    0.000000   \n",
       "50%                         0.000000                    0.000000   \n",
       "75%                         0.000000                    1.000000   \n",
       "max                         1.000000                    1.000000   \n",
       "\n",
       "       attributes.Good for Kids  attributes.Parking.validated  \\\n",
       "count              18325.000000                  18325.000000   \n",
       "mean                   0.809986                      0.003547   \n",
       "std                    0.392322                      0.059453   \n",
       "min                    0.000000                      0.000000   \n",
       "25%                    1.000000                      0.000000   \n",
       "50%                    1.000000                      0.000000   \n",
       "75%                    1.000000                      0.000000   \n",
       "max                    1.000000                      1.000000   \n",
       "\n",
       "       attributes.Has TV  attributes.Ambience.casual  \\\n",
       "count       18325.000000                18325.000000   \n",
       "mean            0.462156                    0.502483   \n",
       "std             0.498579                    0.500007   \n",
       "min             0.000000                    0.000000   \n",
       "25%             0.000000                    0.000000   \n",
       "50%             0.000000                    1.000000   \n",
       "75%             1.000000                    1.000000   \n",
       "max             1.000000                    1.000000   \n",
       "\n",
       "       attributes.Good For Groups  attributes.Ambience.romantic  \\\n",
       "count                18325.000000                  18325.000000   \n",
       "mean                     0.847749                      0.009277   \n",
       "std                      0.359274                      0.095872   \n",
       "min                      0.000000                      0.000000   \n",
       "25%                      1.000000                      0.000000   \n",
       "50%                      1.000000                      0.000000   \n",
       "75%                      1.000000                      0.000000   \n",
       "max                      1.000000                      1.000000   \n",
       "\n",
       "       attributes.Ambience.upscale  \n",
       "count                 18325.000000  \n",
       "mean                      0.007040  \n",
       "std                       0.083609  \n",
       "min                       0.000000  \n",
       "25%                       0.000000  \n",
       "50%                       0.000000  \n",
       "75%                       0.000000  \n",
       "max                       1.000000  \n",
       "\n",
       "[8 rows x 44 columns]"
      ]
     },
     "execution_count": 9,
     "metadata": {},
     "output_type": "execute_result"
    }
   ],
   "source": [
    "data.describe()"
   ]
  },
  {
   "cell_type": "code",
   "execution_count": 10,
   "id": "e29ef2ae",
   "metadata": {},
   "outputs": [],
   "source": [
    "#Shuffle dataset\n",
    "\n",
    "data = data.sample(frac=1, random_state=25).reset_index(drop=True)"
   ]
  },
  {
   "cell_type": "code",
   "execution_count": 14,
   "id": "ba31afbd",
   "metadata": {},
   "outputs": [],
   "source": [
    "#preprocessing & split data into y, X and then into train and test.\n",
    "def preprocess_inputs(dataframe):\n",
    "    #Split y, X\n",
    "    y= dataframe['open']\n",
    "    X=dataframe.drop('open', axis=1)\n",
    "    X_train, X_test, y_train, y_test = train_test_split(X, y, train_size=.7, shuffle=True, random_state=25)\n",
    "    return X_train, X_test, y_train, y_test"
   ]
  },
  {
   "cell_type": "code",
   "execution_count": 15,
   "id": "65d6746e",
   "metadata": {},
   "outputs": [],
   "source": [
    "X_train, X_test, y_train, y_test = preprocess_inputs(data)"
   ]
  },
  {
   "cell_type": "code",
   "execution_count": 16,
   "id": "5821dd45",
   "metadata": {},
   "outputs": [
    {
     "data": {
      "text/plain": [
       "1    10358\n",
       "0     2469\n",
       "Name: open, dtype: int64"
      ]
     },
     "execution_count": 16,
     "metadata": {},
     "output_type": "execute_result"
    }
   ],
   "source": [
    "y_train.value_counts()"
   ]
  },
  {
   "cell_type": "code",
   "execution_count": 17,
   "id": "ec6b006c",
   "metadata": {},
   "outputs": [
    {
     "data": {
      "text/plain": [
       "1    4453\n",
       "0    1045\n",
       "Name: open, dtype: int64"
      ]
     },
     "execution_count": 17,
     "metadata": {},
     "output_type": "execute_result"
    }
   ],
   "source": [
    "y_test.value_counts()"
   ]
  },
  {
   "cell_type": "markdown",
   "id": "02cddc94",
   "metadata": {},
   "source": [
    "#### Logistic Regression"
   ]
  },
  {
   "cell_type": "code",
   "execution_count": 18,
   "id": "ec203926",
   "metadata": {},
   "outputs": [
    {
     "name": "stdout",
     "output_type": "stream",
     "text": [
      "Logistic Regression: 80.99%\n"
     ]
    }
   ],
   "source": [
    "logistic_model = LogisticRegression()\n",
    "logistic_model.fit(X_train, y_train)\n",
    "\n",
    "y_pred_logistic = logistic_model.decision_function(X_test)\n",
    "    \n",
    "print(\"Logistic Regression:\" + \" {:.2f}%\".format(logistic_model.score(X_test, y_test)*100))\n"
   ]
  },
  {
   "cell_type": "code",
   "execution_count": 19,
   "id": "45516ad4",
   "metadata": {},
   "outputs": [
    {
     "name": "stdout",
     "output_type": "stream",
     "text": [
      "Coefficients: \n",
      " [[ 2.65892084e-05  4.15953738e-03 -2.12000393e-04 -1.39435160e-03\n",
      "  -2.99978803e-05 -8.72191532e-03 -6.98830735e-03 -1.14573143e-03\n",
      "   2.68798860e-02  6.05929134e-04  2.91133421e-03 -2.78229063e-02\n",
      "   1.73681871e-02 -5.64920418e-04 -1.58339423e-03 -1.33362299e-02\n",
      "   3.16030637e-02  5.02347237e-02  5.93196137e-03 -5.16761970e-03\n",
      "  -3.83513080e-04  7.10356167e-03  3.27943949e-02 -4.64756509e-03\n",
      "   3.19239297e-02 -8.72453034e-04 -1.81379718e-02 -1.58902949e-02\n",
      "   2.64824992e-02  1.01978955e-02  4.62914219e-02  1.78272193e-01\n",
      "   1.58569418e-02 -9.08916081e-04 -4.66621534e-04  1.01842486e-03\n",
      "   6.83894609e-02 -1.21872787e-03  1.58918209e-02  6.32157852e-03\n",
      "   4.23784294e-02 -7.67604202e-04 -1.17377012e-03]]\n"
     ]
    }
   ],
   "source": [
    "print(\"Coefficients: \\n\", logistic_model.coef_)"
   ]
  },
  {
   "cell_type": "code",
   "execution_count": 20,
   "id": "1f9c5c0e",
   "metadata": {},
   "outputs": [
    {
     "data": {
      "text/plain": [
       "{'C': 1.0,\n",
       " 'class_weight': None,\n",
       " 'dual': False,\n",
       " 'fit_intercept': True,\n",
       " 'intercept_scaling': 1,\n",
       " 'l1_ratio': None,\n",
       " 'max_iter': 100,\n",
       " 'multi_class': 'auto',\n",
       " 'n_jobs': None,\n",
       " 'penalty': 'l2',\n",
       " 'random_state': None,\n",
       " 'solver': 'lbfgs',\n",
       " 'tol': 0.0001,\n",
       " 'verbose': 0,\n",
       " 'warm_start': False}"
      ]
     },
     "execution_count": 20,
     "metadata": {},
     "output_type": "execute_result"
    }
   ],
   "source": [
    "logistic_model.get_params(deep=True)"
   ]
  },
  {
   "cell_type": "markdown",
   "id": "cc5267ca",
   "metadata": {},
   "source": [
    "#### K-Nearest Neigbors"
   ]
  },
  {
   "cell_type": "code",
   "execution_count": 21,
   "id": "f0612179",
   "metadata": {},
   "outputs": [
    {
     "name": "stdout",
     "output_type": "stream",
     "text": [
      "K-Nearest Neighbors: 79.23%\n"
     ]
    }
   ],
   "source": [
    "KNN_model = KNeighborsClassifier()\n",
    "KNN_model.fit(X_train, y_train)\n",
    "\n",
    "y_pred_KNN = KNN_model.predict_proba(X_test)\n",
    "    \n",
    "print(\"K-Nearest Neighbors:\" + \" {:.2f}%\".format(KNN_model.score(X_test, y_test)*100))\n"
   ]
  },
  {
   "cell_type": "markdown",
   "id": "82279456",
   "metadata": {},
   "source": [
    "#### Decision Tree"
   ]
  },
  {
   "cell_type": "code",
   "execution_count": 22,
   "id": "f36303f2",
   "metadata": {},
   "outputs": [
    {
     "name": "stdout",
     "output_type": "stream",
     "text": [
      "Decision Tree: 75.54%\n"
     ]
    }
   ],
   "source": [
    "Tree_model = DecisionTreeClassifier()\n",
    "Tree_model.fit(X_train, y_train)\n",
    "\n",
    "y_pred_tree = Tree_model.predict(X_test)\n",
    "    \n",
    "print(\"Decision Tree:\" + \" {:.2f}%\".format(Tree_model.score(X_test, y_test)*100))"
   ]
  },
  {
   "cell_type": "code",
   "execution_count": 23,
   "id": "20d9b6a1",
   "metadata": {},
   "outputs": [
    {
     "name": "stdout",
     "output_type": "stream",
     "text": [
      "[[ 395  650]\n",
      " [ 695 3758]]\n",
      "              precision    recall  f1-score   support\n",
      "\n",
      "           0       0.36      0.38      0.37      1045\n",
      "           1       0.85      0.84      0.85      4453\n",
      "\n",
      "    accuracy                           0.76      5498\n",
      "   macro avg       0.61      0.61      0.61      5498\n",
      "weighted avg       0.76      0.76      0.76      5498\n",
      "\n"
     ]
    }
   ],
   "source": [
    "print(confusion_matrix(y_test, y_pred_tree))\n",
    "print(classification_report(y_test, y_pred_tree))"
   ]
  },
  {
   "cell_type": "markdown",
   "id": "5a434ae5",
   "metadata": {},
   "source": [
    "#### Support Vector Machine (Linear Kernel)"
   ]
  },
  {
   "cell_type": "code",
   "execution_count": 24,
   "id": "0c1aa3c5",
   "metadata": {},
   "outputs": [
    {
     "name": "stdout",
     "output_type": "stream",
     "text": [
      "Support Vector Machine (Linear Kernel): 80.14%\n"
     ]
    },
    {
     "name": "stderr",
     "output_type": "stream",
     "text": [
      "C:\\Users\\ziggy\\anaconda3\\envs\\Springboard\\lib\\site-packages\\sklearn\\svm\\_base.py:1206: ConvergenceWarning: Liblinear failed to converge, increase the number of iterations.\n",
      "  warnings.warn(\n"
     ]
    }
   ],
   "source": [
    "SVM_model = LinearSVC()\n",
    "SVM_model.fit(X_train, y_train)\n",
    "\n",
    "y_pred_SVM = SVM_model.decision_function(X_test)\n",
    "    \n",
    "print(\"Support Vector Machine (Linear Kernel):\" + \" {:.2f}%\".format(SVM_model.score(X_test, y_test)*100))\n"
   ]
  },
  {
   "cell_type": "markdown",
   "id": "17f10873",
   "metadata": {},
   "source": [
    "#### Support Vector MAchine (RBF Kernel)"
   ]
  },
  {
   "cell_type": "code",
   "execution_count": 26,
   "id": "262a9403",
   "metadata": {},
   "outputs": [
    {
     "name": "stdout",
     "output_type": "stream",
     "text": [
      "Support Vector Machine (RBF Kernel): 80.99%\n"
     ]
    }
   ],
   "source": [
    "SVC_model = SVC()\n",
    "SVC_model.fit(X_train, y_train)\n",
    "\n",
    "y_pred_SVC = SVC_model.decision_function(X_test)\n",
    "    \n",
    "print(\"Support Vector Machine (RBF Kernel):\" + \" {:.2f}%\".format(SVC_model.score(X_test, y_test)*100))"
   ]
  },
  {
   "cell_type": "markdown",
   "id": "460af284",
   "metadata": {},
   "source": [
    "#### Neural Network"
   ]
  },
  {
   "cell_type": "code",
   "execution_count": 27,
   "id": "ddd1be65",
   "metadata": {},
   "outputs": [
    {
     "name": "stdout",
     "output_type": "stream",
     "text": [
      "Neural Network: 25.03%\n"
     ]
    }
   ],
   "source": [
    "Neural_model = MLPClassifier()\n",
    "Neural_model.fit(X_train, y_train)\n",
    "\n",
    "\n",
    "  \n",
    "print(\"Neural Network:\" + \" {:.2f}%\".format(Neural_model.score(X_test, y_test)*100))"
   ]
  },
  {
   "cell_type": "markdown",
   "id": "5230cb96",
   "metadata": {},
   "source": [
    "#### Random Forest"
   ]
  },
  {
   "cell_type": "code",
   "execution_count": 28,
   "id": "cee939bf",
   "metadata": {},
   "outputs": [
    {
     "name": "stdout",
     "output_type": "stream",
     "text": [
      "Random Forest: 83.45%\n"
     ]
    }
   ],
   "source": [
    "Forest_model = RandomForestClassifier()\n",
    "Forest_model.fit(X_train, y_train)\n",
    "\n",
    "y_pred_forest = Forest_model.predict(X_test)\n",
    "    \n",
    "print(\"Random Forest:\" + \" {:.2f}%\".format(Forest_model.score(X_test, y_test)*100))"
   ]
  },
  {
   "cell_type": "markdown",
   "id": "846d87db",
   "metadata": {},
   "source": [
    "#### Gradient Boosting"
   ]
  },
  {
   "cell_type": "code",
   "execution_count": 30,
   "id": "373267bd",
   "metadata": {},
   "outputs": [
    {
     "name": "stdout",
     "output_type": "stream",
     "text": [
      "Gradient Boosting: 83.47%\n"
     ]
    }
   ],
   "source": [
    "Gradient_model = GradientBoostingClassifier()\n",
    "Gradient_model.fit(X_train, y_train)\n",
    "\n",
    "#y_pred_Neural = Neural_model.decision_function(X_test)\n",
    "    \n",
    "print(\"Gradient Boosting:\" + \" {:.2f}%\".format(Gradient_model.score(X_test, y_test)*100))"
   ]
  },
  {
   "cell_type": "markdown",
   "id": "9f5cfa55",
   "metadata": {},
   "source": [
    "#### ROC curve "
   ]
  },
  {
   "cell_type": "code",
   "execution_count": 33,
   "id": "5c508349",
   "metadata": {},
   "outputs": [
    {
     "data": {
      "text/plain": [
       "<matplotlib.legend.Legend at 0x1c8c81d9610>"
      ]
     },
     "execution_count": 33,
     "metadata": {},
     "output_type": "execute_result"
    },
    {
     "data": {
      "image/png": "[encoded data removed]",
      "text/plain": [
       "<Figure size 1000x1000 with 1 Axes>"
      ]
     },
     "metadata": {
      "needs_background": "light"
     },
     "output_type": "display_data"
    }
   ],
   "source": [
    "#ROC curve for Logistic, KNN, SVMs\n",
    "\n",
    "logistic_fpr, logistic_tpr, threshold = roc_curve(y_test, y_pred_logistic)\n",
    "auc_logistic = auc(logistic_fpr, logistic_tpr)\n",
    "\n",
    "knn_fpr, knn_tpr, threshold = roc_curve(y_test, y_pred_KNN[:,1])\n",
    "\n",
    "svm_fpr, svm_tpr, threshold = roc_curve(y_test, y_pred_SVM)\n",
    "auc_svm = auc(svm_fpr, svm_tpr)\n",
    "\n",
    "svc_fpr, svc_tpr, threshold = roc_curve(y_test, y_pred_SVC)\n",
    "auc_svc = auc(svc_fpr, svc_tpr)\n",
    "\n",
    "forest_fpr, forest_tpr, threshold = roc_curve(y_test, y_pred_forest)\n",
    "auc_forest = auc(forest_fpr, forest_tpr)\n",
    "\n",
    "plt.figure(figsize=(10,10), dpi=100)\n",
    "plt.plot(svm_fpr, svm_tpr, linestyle='-', label=\"SVM (auc = %0.3f)\" % auc_svm)\n",
    "plt.plot(logistic_fpr, logistic_tpr, linestyle='-', label=\"Logistic (auc = %0.3f)\" % auc_logistic)\n",
    "plt.plot(svc_fpr, svc_tpr, linestyle='-', label=\"SVC (auc = %0.3f)\" % auc_svc)\n",
    "plt.plot(knn_fpr, knn_tpr, linestyle='-', label=\"KNN\")\n",
    "plt.plot(forest_fpr, forest_tpr,linestyle='-', label=\"Random Forest (auc= %0.3f)\" % auc_forest)\n",
    "\n",
    "plt.xlabel('False positive rate')\n",
    "plt.ylabel('True positive rate')\n",
    "plt.legend()\n"
   ]
  },
  {
   "cell_type": "code",
   "execution_count": null,
   "id": "847ecda3",
   "metadata": {},
   "outputs": [],
   "source": []
  }
 ],
 "metadata": {
  "kernelspec": {
   "display_name": "Python 3 (ipykernel)",
   "language": "python",
   "name": "python3"
  },
  "language_info": {
   "codemirror_mode": {
    "name": "ipython",
    "version": 3
   },
   "file_extension": ".py",
   "mimetype": "text/x-python",
   "name": "python",
   "nbconvert_exporter": "python",
   "pygments_lexer": "ipython3",
   "version": "3.8.12"
  }
 },
 "nbformat": 4,
 "nbformat_minor": 5
}
