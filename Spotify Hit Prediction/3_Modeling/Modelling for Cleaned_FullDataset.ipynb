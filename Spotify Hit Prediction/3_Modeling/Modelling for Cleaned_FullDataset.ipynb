{
 "cells": [
  {
   "cell_type": "markdown",
   "id": "a45c16b4",
   "metadata": {},
   "source": [
    "In this workbook I will split my data into testing and trianing sets and evaluate several different models: \n",
    "    1. Shuffle the data\n",
    "    2. Split the data into y, and X\n",
    "    3. Split the data into train and test\n",
    "    4. Models:\n",
    "        i) Logistic Regression\n",
    "        ii) KNearestNeighbors\n",
    "        iii) Decision Tree\n",
    "        iv) Linear kernel SVC \n",
    "        v) SVC \n",
    "        vi) Neural Netwrok\n",
    "        vii) Random Forest\n",
    "        viii) Gradient Boosting\n",
    "\n",
    "https://towardsdatascience.com/predicting-popularity-on-spotify-when-data-needs-culture-more-than-culture-needs-data-2ed3661f75f1\n"
   ]
  },
  {
   "cell_type": "code",
   "execution_count": null,
   "id": "07fea56c",
   "metadata": {},
   "outputs": [],
   "source": [
    "#Import packages\n",
    "\n"
   ]
  },
  {
   "cell_type": "code",
   "execution_count": null,
   "id": "6e7f86ec",
   "metadata": {},
   "outputs": [],
   "source": [
    "#Import data\n",
    "\n"
   ]
  },
  {
   "cell_type": "code",
   "execution_count": null,
   "id": "5c162d17",
   "metadata": {},
   "outputs": [],
   "source": [
    "#Shuffle data\n",
    "\n"
   ]
  },
  {
   "cell_type": "code",
   "execution_count": null,
   "id": "10084148",
   "metadata": {},
   "outputs": [],
   "source": [
    "#Split data into y, X and then into train and test. \n",
    "\n"
   ]
  },
  {
   "cell_type": "code",
   "execution_count": null,
   "id": "8bbb258b",
   "metadata": {},
   "outputs": [],
   "source": [
    "#Define models\n",
    "\n"
   ]
  },
  {
   "cell_type": "code",
   "execution_count": null,
   "id": "31fd9f9e",
   "metadata": {},
   "outputs": [],
   "source": [
    "#Evaluate models\n",
    "\n"
   ]
  }
 ],
 "metadata": {
  "kernelspec": {
   "display_name": "Python 3 (ipykernel)",
   "language": "python",
   "name": "python3"
  },
  "language_info": {
   "codemirror_mode": {
    "name": "ipython",
    "version": 3
   },
   "file_extension": ".py",
   "mimetype": "text/x-python",
   "name": "python",
   "nbconvert_exporter": "python",
   "pygments_lexer": "ipython3",
   "version": "3.8.12"
  }
 },
 "nbformat": 4,
 "nbformat_minor": 5
}
