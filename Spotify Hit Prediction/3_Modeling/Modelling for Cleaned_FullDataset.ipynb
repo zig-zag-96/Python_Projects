{
 "cells": [
  {
   "cell_type": "markdown",
   "id": "a45c16b4",
   "metadata": {},
   "source": [
    "In this workbook I will split my data into testing and trianing sets and evaluate several different models: \n",
    "    1. Shuffle the data\n",
    "    2. Split the data into y, and X\n",
    "    3. Split the data into train and test\n",
    "    4. Models:\n",
    "        i) Logistic Regression\n",
    "        ii) KNearestNeighbors\n",
    "        iii) Decision Tree\n",
    "        iv) Linear kernel SVC \n",
    "        v) SVC \n",
    "        vi) Neural Netwrok\n",
    "        vii) Random Forest\n",
    "        viii) Gradient Boosting\n",
    "\n",
    "https://towardsdatascience.com/predicting-popularity-on-spotify-when-data-needs-culture-more-than-culture-needs-data-2ed3661f75f1\n"
   ]
  },
  {
   "cell_type": "code",
   "execution_count": 1,
   "id": "07fea56c",
   "metadata": {},
   "outputs": [],
   "source": [
    "#Import packages\n",
    "import pandas as pd\n",
    "import numpy as np\n",
    "import seaborn as sns\n",
    "import matplotlib.pyplot as plt\n",
    "\n",
    "from sklearn.preprocessing import StandardScaler\n",
    "from sklearn.model_selection import train_test_split, RandomizedSearchCV, cross_val_score  \n",
    "from sklearn.linear_model import LinearRegression, LogisticRegression\n",
    "from sklearn.ensemble import RandomForestClassifier, GradientBoostingClassifier\n",
    "from sklearn.tree import DecisionTreeClassifier\n",
    "from sklearn.neighbors import KNeighborsClassifier\n",
    "from sklearn.neural_network import MLPClassifier\n",
    "from sklearn.svm import SVC, LinearSVC\n",
    "\n"
   ]
  },
  {
   "cell_type": "code",
   "execution_count": 2,
   "id": "6e7f86ec",
   "metadata": {},
   "outputs": [],
   "source": [
    "#Import data\n",
    "data = pd.read_csv('C:\\\\Users\\\\ziggy\\\\Springboard\\\\Python_Projects\\\\Spotify Hit Prediction\\\\2_Exploratory Data Analysis\\\\Cleaned_FullDataset', index_col=0)\n"
   ]
  },
  {
   "cell_type": "code",
   "execution_count": 3,
   "id": "ebb031a9",
   "metadata": {},
   "outputs": [
    {
     "data": {
      "text/html": [
       "<div>\n",
       "<style scoped>\n",
       "    .dataframe tbody tr th:only-of-type {\n",
       "        vertical-align: middle;\n",
       "    }\n",
       "\n",
       "    .dataframe tbody tr th {\n",
       "        vertical-align: top;\n",
       "    }\n",
       "\n",
       "    .dataframe thead th {\n",
       "        text-align: right;\n",
       "    }\n",
       "</style>\n",
       "<table border=\"1\" class=\"dataframe\">\n",
       "  <thead>\n",
       "    <tr style=\"text-align: right;\">\n",
       "      <th></th>\n",
       "      <th>Title</th>\n",
       "      <th>Artist</th>\n",
       "      <th>URI</th>\n",
       "      <th>danceability</th>\n",
       "      <th>energy</th>\n",
       "      <th>key</th>\n",
       "      <th>loudness</th>\n",
       "      <th>mode</th>\n",
       "      <th>speechiness</th>\n",
       "      <th>acousticness</th>\n",
       "      <th>instrumentalness</th>\n",
       "      <th>liveness</th>\n",
       "      <th>valence</th>\n",
       "      <th>tempo</th>\n",
       "      <th>duration_ms</th>\n",
       "      <th>time_signature</th>\n",
       "      <th>Target</th>\n",
       "    </tr>\n",
       "  </thead>\n",
       "  <tbody>\n",
       "    <tr>\n",
       "      <th>0</th>\n",
       "      <td>hanging by a moment</td>\n",
       "      <td>lifehouse</td>\n",
       "      <td>0wqOReZDnrefefEsrIGeR4</td>\n",
       "      <td>0.541</td>\n",
       "      <td>0.864</td>\n",
       "      <td>1.0</td>\n",
       "      <td>-4.915</td>\n",
       "      <td>1.0</td>\n",
       "      <td>0.0357</td>\n",
       "      <td>0.00118</td>\n",
       "      <td>0.00000</td>\n",
       "      <td>0.0896</td>\n",
       "      <td>0.435</td>\n",
       "      <td>124.557</td>\n",
       "      <td>216067.0</td>\n",
       "      <td>4.0</td>\n",
       "      <td>1</td>\n",
       "    </tr>\n",
       "    <tr>\n",
       "      <th>1</th>\n",
       "      <td>fallin’</td>\n",
       "      <td>alicia keys</td>\n",
       "      <td>0KQx6HOpJueiSkztcS0r7D</td>\n",
       "      <td>0.652</td>\n",
       "      <td>0.609</td>\n",
       "      <td>11.0</td>\n",
       "      <td>-7.519</td>\n",
       "      <td>0.0</td>\n",
       "      <td>0.0370</td>\n",
       "      <td>0.26300</td>\n",
       "      <td>0.00101</td>\n",
       "      <td>0.2330</td>\n",
       "      <td>0.482</td>\n",
       "      <td>95.986</td>\n",
       "      <td>210200.0</td>\n",
       "      <td>3.0</td>\n",
       "      <td>1</td>\n",
       "    </tr>\n",
       "    <tr>\n",
       "      <th>2</th>\n",
       "      <td>all for you</td>\n",
       "      <td>janet jackson</td>\n",
       "      <td>5X8kkUaUlAyAUr9TYqDFTH</td>\n",
       "      <td>0.753</td>\n",
       "      <td>0.934</td>\n",
       "      <td>2.0</td>\n",
       "      <td>-3.011</td>\n",
       "      <td>1.0</td>\n",
       "      <td>0.0736</td>\n",
       "      <td>0.01740</td>\n",
       "      <td>0.06500</td>\n",
       "      <td>0.1280</td>\n",
       "      <td>0.730</td>\n",
       "      <td>113.525</td>\n",
       "      <td>329933.0</td>\n",
       "      <td>3.0</td>\n",
       "      <td>1</td>\n",
       "    </tr>\n",
       "    <tr>\n",
       "      <th>3</th>\n",
       "      <td>drops of jupiter (tell me)</td>\n",
       "      <td>train</td>\n",
       "      <td>2hKdd3qO7cWr2Jo0Bcs0MA</td>\n",
       "      <td>0.481</td>\n",
       "      <td>0.638</td>\n",
       "      <td>0.0</td>\n",
       "      <td>-5.862</td>\n",
       "      <td>1.0</td>\n",
       "      <td>0.0276</td>\n",
       "      <td>0.15300</td>\n",
       "      <td>0.00000</td>\n",
       "      <td>0.1540</td>\n",
       "      <td>0.497</td>\n",
       "      <td>79.064</td>\n",
       "      <td>259933.0</td>\n",
       "      <td>4.0</td>\n",
       "      <td>1</td>\n",
       "    </tr>\n",
       "    <tr>\n",
       "      <th>4</th>\n",
       "      <td>i’m real</td>\n",
       "      <td>jennifer lopez feat. ja rule</td>\n",
       "      <td>6MLsahMK3VvH9NUwXOktdS</td>\n",
       "      <td>0.708</td>\n",
       "      <td>0.587</td>\n",
       "      <td>11.0</td>\n",
       "      <td>-7.930</td>\n",
       "      <td>0.0</td>\n",
       "      <td>0.1510</td>\n",
       "      <td>0.27300</td>\n",
       "      <td>0.00000</td>\n",
       "      <td>0.0718</td>\n",
       "      <td>0.554</td>\n",
       "      <td>83.460</td>\n",
       "      <td>262133.0</td>\n",
       "      <td>4.0</td>\n",
       "      <td>1</td>\n",
       "    </tr>\n",
       "  </tbody>\n",
       "</table>\n",
       "</div>"
      ],
      "text/plain": [
       "                        Title                        Artist  \\\n",
       "0         hanging by a moment                     lifehouse   \n",
       "1                     fallin’                   alicia keys   \n",
       "2                 all for you                 janet jackson   \n",
       "3  drops of jupiter (tell me)                         train   \n",
       "4                    i’m real  jennifer lopez feat. ja rule   \n",
       "\n",
       "                      URI  danceability  energy   key  loudness  mode  \\\n",
       "0  0wqOReZDnrefefEsrIGeR4         0.541   0.864   1.0    -4.915   1.0   \n",
       "1  0KQx6HOpJueiSkztcS0r7D         0.652   0.609  11.0    -7.519   0.0   \n",
       "2  5X8kkUaUlAyAUr9TYqDFTH         0.753   0.934   2.0    -3.011   1.0   \n",
       "3  2hKdd3qO7cWr2Jo0Bcs0MA         0.481   0.638   0.0    -5.862   1.0   \n",
       "4  6MLsahMK3VvH9NUwXOktdS         0.708   0.587  11.0    -7.930   0.0   \n",
       "\n",
       "   speechiness  acousticness  instrumentalness  liveness  valence    tempo  \\\n",
       "0       0.0357       0.00118           0.00000    0.0896    0.435  124.557   \n",
       "1       0.0370       0.26300           0.00101    0.2330    0.482   95.986   \n",
       "2       0.0736       0.01740           0.06500    0.1280    0.730  113.525   \n",
       "3       0.0276       0.15300           0.00000    0.1540    0.497   79.064   \n",
       "4       0.1510       0.27300           0.00000    0.0718    0.554   83.460   \n",
       "\n",
       "   duration_ms  time_signature  Target  \n",
       "0     216067.0             4.0       1  \n",
       "1     210200.0             3.0       1  \n",
       "2     329933.0             3.0       1  \n",
       "3     259933.0             4.0       1  \n",
       "4     262133.0             4.0       1  "
      ]
     },
     "execution_count": 3,
     "metadata": {},
     "output_type": "execute_result"
    }
   ],
   "source": [
    "data.head()"
   ]
  },
  {
   "cell_type": "code",
   "execution_count": 5,
   "id": "ac0f4e8d",
   "metadata": {},
   "outputs": [],
   "source": [
    "#Shuffle dataset\n",
    "\n",
    "data = data.sample(frac=1, random_state=25).reset_index(drop=True)"
   ]
  },
  {
   "cell_type": "code",
   "execution_count": 6,
   "id": "8a355043",
   "metadata": {},
   "outputs": [
    {
     "data": {
      "text/html": [
       "<div>\n",
       "<style scoped>\n",
       "    .dataframe tbody tr th:only-of-type {\n",
       "        vertical-align: middle;\n",
       "    }\n",
       "\n",
       "    .dataframe tbody tr th {\n",
       "        vertical-align: top;\n",
       "    }\n",
       "\n",
       "    .dataframe thead th {\n",
       "        text-align: right;\n",
       "    }\n",
       "</style>\n",
       "<table border=\"1\" class=\"dataframe\">\n",
       "  <thead>\n",
       "    <tr style=\"text-align: right;\">\n",
       "      <th></th>\n",
       "      <th>Title</th>\n",
       "      <th>Artist</th>\n",
       "      <th>URI</th>\n",
       "      <th>danceability</th>\n",
       "      <th>energy</th>\n",
       "      <th>key</th>\n",
       "      <th>loudness</th>\n",
       "      <th>mode</th>\n",
       "      <th>speechiness</th>\n",
       "      <th>acousticness</th>\n",
       "      <th>instrumentalness</th>\n",
       "      <th>liveness</th>\n",
       "      <th>valence</th>\n",
       "      <th>tempo</th>\n",
       "      <th>duration_ms</th>\n",
       "      <th>time_signature</th>\n",
       "      <th>Target</th>\n",
       "    </tr>\n",
       "  </thead>\n",
       "  <tbody>\n",
       "    <tr>\n",
       "      <th>0</th>\n",
       "      <td>toyota</td>\n",
       "      <td>supernichts</td>\n",
       "      <td>0W37YadDSSReqrgk8vZyLj</td>\n",
       "      <td>0.506</td>\n",
       "      <td>0.922</td>\n",
       "      <td>2.0</td>\n",
       "      <td>-4.883</td>\n",
       "      <td>1.0</td>\n",
       "      <td>0.0386</td>\n",
       "      <td>0.007210</td>\n",
       "      <td>0.000</td>\n",
       "      <td>0.168</td>\n",
       "      <td>0.911</td>\n",
       "      <td>103.476</td>\n",
       "      <td>68427.0</td>\n",
       "      <td>4.0</td>\n",
       "      <td>0</td>\n",
       "    </tr>\n",
       "    <tr>\n",
       "      <th>1</th>\n",
       "      <td>ringside rocking furs (feat. tiona d &amp; keisha ...</td>\n",
       "      <td>westside gunn</td>\n",
       "      <td>6FOIxFtHOV2oAywczkPERO</td>\n",
       "      <td>0.479</td>\n",
       "      <td>0.707</td>\n",
       "      <td>6.0</td>\n",
       "      <td>-4.078</td>\n",
       "      <td>1.0</td>\n",
       "      <td>0.3120</td>\n",
       "      <td>0.016100</td>\n",
       "      <td>0.000</td>\n",
       "      <td>0.584</td>\n",
       "      <td>0.479</td>\n",
       "      <td>128.901</td>\n",
       "      <td>297125.0</td>\n",
       "      <td>4.0</td>\n",
       "      <td>0</td>\n",
       "    </tr>\n",
       "    <tr>\n",
       "      <th>2</th>\n",
       "      <td>vegas (feat. steven booth &amp; andy mientus)</td>\n",
       "      <td>kait kerrigan &amp; brian lowdermilk</td>\n",
       "      <td>2T53E1DG2ULruBg8uXPqIe</td>\n",
       "      <td>0.543</td>\n",
       "      <td>0.704</td>\n",
       "      <td>11.0</td>\n",
       "      <td>-5.553</td>\n",
       "      <td>1.0</td>\n",
       "      <td>0.1390</td>\n",
       "      <td>0.536000</td>\n",
       "      <td>0.000</td>\n",
       "      <td>0.688</td>\n",
       "      <td>0.579</td>\n",
       "      <td>131.066</td>\n",
       "      <td>332326.0</td>\n",
       "      <td>4.0</td>\n",
       "      <td>0</td>\n",
       "    </tr>\n",
       "    <tr>\n",
       "      <th>3</th>\n",
       "      <td>in common fabrics</td>\n",
       "      <td>electric universe</td>\n",
       "      <td>0tgWKSTNgvetbPRCV9g2aY</td>\n",
       "      <td>0.637</td>\n",
       "      <td>0.978</td>\n",
       "      <td>1.0</td>\n",
       "      <td>-6.413</td>\n",
       "      <td>1.0</td>\n",
       "      <td>0.0511</td>\n",
       "      <td>0.000125</td>\n",
       "      <td>0.885</td>\n",
       "      <td>0.215</td>\n",
       "      <td>0.257</td>\n",
       "      <td>144.998</td>\n",
       "      <td>459337.0</td>\n",
       "      <td>4.0</td>\n",
       "      <td>0</td>\n",
       "    </tr>\n",
       "    <tr>\n",
       "      <th>4</th>\n",
       "      <td>lost and found - with tyler booth</td>\n",
       "      <td>brooks &amp; dunn</td>\n",
       "      <td>7hzyuLLHrQALKn7kIAc6cR</td>\n",
       "      <td>0.625</td>\n",
       "      <td>0.842</td>\n",
       "      <td>4.0</td>\n",
       "      <td>-5.171</td>\n",
       "      <td>1.0</td>\n",
       "      <td>0.0321</td>\n",
       "      <td>0.010000</td>\n",
       "      <td>0.000</td>\n",
       "      <td>0.286</td>\n",
       "      <td>0.678</td>\n",
       "      <td>117.998</td>\n",
       "      <td>235053.0</td>\n",
       "      <td>4.0</td>\n",
       "      <td>0</td>\n",
       "    </tr>\n",
       "  </tbody>\n",
       "</table>\n",
       "</div>"
      ],
      "text/plain": [
       "                                               Title  \\\n",
       "0                                             toyota   \n",
       "1  ringside rocking furs (feat. tiona d & keisha ...   \n",
       "2          vegas (feat. steven booth & andy mientus)   \n",
       "3                                  in common fabrics   \n",
       "4                  lost and found - with tyler booth   \n",
       "\n",
       "                             Artist                     URI  danceability  \\\n",
       "0                       supernichts  0W37YadDSSReqrgk8vZyLj         0.506   \n",
       "1                     westside gunn  6FOIxFtHOV2oAywczkPERO         0.479   \n",
       "2  kait kerrigan & brian lowdermilk  2T53E1DG2ULruBg8uXPqIe         0.543   \n",
       "3                 electric universe  0tgWKSTNgvetbPRCV9g2aY         0.637   \n",
       "4                     brooks & dunn  7hzyuLLHrQALKn7kIAc6cR         0.625   \n",
       "\n",
       "   energy   key  loudness  mode  speechiness  acousticness  instrumentalness  \\\n",
       "0   0.922   2.0    -4.883   1.0       0.0386      0.007210             0.000   \n",
       "1   0.707   6.0    -4.078   1.0       0.3120      0.016100             0.000   \n",
       "2   0.704  11.0    -5.553   1.0       0.1390      0.536000             0.000   \n",
       "3   0.978   1.0    -6.413   1.0       0.0511      0.000125             0.885   \n",
       "4   0.842   4.0    -5.171   1.0       0.0321      0.010000             0.000   \n",
       "\n",
       "   liveness  valence    tempo  duration_ms  time_signature  Target  \n",
       "0     0.168    0.911  103.476      68427.0             4.0       0  \n",
       "1     0.584    0.479  128.901     297125.0             4.0       0  \n",
       "2     0.688    0.579  131.066     332326.0             4.0       0  \n",
       "3     0.215    0.257  144.998     459337.0             4.0       0  \n",
       "4     0.286    0.678  117.998     235053.0             4.0       0  "
      ]
     },
     "execution_count": 6,
     "metadata": {},
     "output_type": "execute_result"
    }
   ],
   "source": [
    "data.head()"
   ]
  },
  {
   "cell_type": "code",
   "execution_count": 7,
   "id": "5c162d17",
   "metadata": {},
   "outputs": [],
   "source": [
    "#preprocessing & split data into y, X and then into train and test.\n",
    "def preprocess_inputs(dataframe):\n",
    "    #Drop categorical variables\n",
    "    dataframe = dataframe.drop(['Title','Artist', 'URI'], axis=1)\n",
    "    #Split y, X\n",
    "    y= dataframe['Target']\n",
    "    X=dataframe.drop('Target', axis=1)\n",
    "    X_train, X_test, y_train, y_test = train_test_split(X, y, train_size=.7, shuffle=True, random_state=25)\n",
    "    #Scale \n",
    "    scaler = StandardScaler()\n",
    "    scaler.fit(X_train)\n",
    "    X_train = pd.DataFrame(scaler.transform(X_train), index = X_train.index, columns = X_train.columns)\n",
    "    X_test = pd.DataFrame(scaler.transform(X_test), index = X_test.index, columns = X_test.columns)\n",
    "    return X_train, X_test, y_train, y_test"
   ]
  },
  {
   "cell_type": "code",
   "execution_count": 8,
   "id": "10084148",
   "metadata": {},
   "outputs": [],
   "source": [
    "X_train, X_test, y_train, y_test = preprocess_inputs(data)\n"
   ]
  },
  {
   "cell_type": "code",
   "execution_count": 14,
   "id": "f4f046b0",
   "metadata": {},
   "outputs": [
    {
     "data": {
      "text/plain": [
       "0    10802\n",
       "1     1277\n",
       "Name: Target, dtype: int64"
      ]
     },
     "execution_count": 14,
     "metadata": {},
     "output_type": "execute_result"
    }
   ],
   "source": [
    "y_train.value_counts()"
   ]
  },
  {
   "cell_type": "code",
   "execution_count": 16,
   "id": "544930ee",
   "metadata": {},
   "outputs": [
    {
     "name": "stdout",
     "output_type": "stream",
     "text": [
      "The number of hit songs represents 11.82 % of the y_train datset.\n"
     ]
    }
   ],
   "source": [
    "print('The number of hit songs represents',round(1277/10802*100, 2),'% of the y_train datset.')"
   ]
  },
  {
   "cell_type": "code",
   "execution_count": 17,
   "id": "406e445e",
   "metadata": {},
   "outputs": [
    {
     "data": {
      "text/plain": [
       "0    4657\n",
       "1     520\n",
       "Name: Target, dtype: int64"
      ]
     },
     "execution_count": 17,
     "metadata": {},
     "output_type": "execute_result"
    }
   ],
   "source": [
    "y_test.value_counts()"
   ]
  },
  {
   "cell_type": "code",
   "execution_count": 18,
   "id": "5e3336c6",
   "metadata": {},
   "outputs": [
    {
     "name": "stdout",
     "output_type": "stream",
     "text": [
      "The number of hit songs represents 11.17 % of the y_test datset.\n"
     ]
    }
   ],
   "source": [
    "print('The number of hit songs represents',round(520/4657*100, 2),'% of the y_test datset.')"
   ]
  },
  {
   "cell_type": "code",
   "execution_count": 9,
   "id": "09da81b3",
   "metadata": {},
   "outputs": [
    {
     "data": {
      "text/plain": [
       "danceability        1.000083\n",
       "energy              1.000083\n",
       "key                 1.000083\n",
       "loudness            1.000083\n",
       "mode                1.000083\n",
       "speechiness         1.000083\n",
       "acousticness        1.000083\n",
       "instrumentalness    1.000083\n",
       "liveness            1.000083\n",
       "valence             1.000083\n",
       "tempo               1.000083\n",
       "duration_ms         1.000083\n",
       "time_signature      1.000083\n",
       "dtype: float64"
      ]
     },
     "execution_count": 9,
     "metadata": {},
     "output_type": "execute_result"
    }
   ],
   "source": [
    "X_train.var()"
   ]
  },
  {
   "cell_type": "markdown",
   "id": "f43f01d8",
   "metadata": {},
   "source": [
    "Training \n"
   ]
  },
  {
   "cell_type": "code",
   "execution_count": 10,
   "id": "8bbb258b",
   "metadata": {},
   "outputs": [],
   "source": [
    "#Define models\n",
    "\n",
    "models = {\n",
    "    'Logistic Regression':LogisticRegression(),\n",
    "    'K-Nearest Neighbors':KNeighborsClassifier(),\n",
    "    'Decision Tree':DecisionTreeClassifier(),\n",
    "    \"Support Vector Machine (Linear Kernel)\": LinearSVC(),\n",
    "    \"Support Vector Machine (RBF Kernel)\":SVC(),\n",
    "    \"Neural Network\":MLPClassifier(),\n",
    "    \"Random Forest\":RandomForestClassifier(),\n",
    "    \"Gradient Boosting\":GradientBoostingClassifier()\n",
    "}\n",
    "    \n"
   ]
  },
  {
   "cell_type": "code",
   "execution_count": 11,
   "id": "31fd9f9e",
   "metadata": {},
   "outputs": [
    {
     "name": "stdout",
     "output_type": "stream",
     "text": [
      "Logistic Regression trained\n",
      "K-Nearest Neighbors trained\n",
      "Decision Tree trained\n"
     ]
    },
    {
     "name": "stderr",
     "output_type": "stream",
     "text": [
      "C:\\Users\\ziggy\\anaconda3\\envs\\Springboard\\lib\\site-packages\\sklearn\\svm\\_base.py:1206: ConvergenceWarning: Liblinear failed to converge, increase the number of iterations.\n",
      "  warnings.warn(\n"
     ]
    },
    {
     "name": "stdout",
     "output_type": "stream",
     "text": [
      "Support Vector Machine (Linear Kernel) trained\n",
      "Support Vector Machine (RBF Kernel) trained\n"
     ]
    },
    {
     "name": "stderr",
     "output_type": "stream",
     "text": [
      "C:\\Users\\ziggy\\anaconda3\\envs\\Springboard\\lib\\site-packages\\sklearn\\neural_network\\_multilayer_perceptron.py:692: ConvergenceWarning: Stochastic Optimizer: Maximum iterations (200) reached and the optimization hasn't converged yet.\n",
      "  warnings.warn(\n"
     ]
    },
    {
     "name": "stdout",
     "output_type": "stream",
     "text": [
      "Neural Network trained\n",
      "Random Forest trained\n",
      "Gradient Boosting trained\n"
     ]
    }
   ],
   "source": [
    "#Train the model\n",
    "\n",
    "for name, model in models.items():\n",
    "    model.fit(X_train, y_train)\n",
    "    print(name + ' trained')\n",
    "    \n"
   ]
  },
  {
   "cell_type": "markdown",
   "id": "0fcc58ca",
   "metadata": {},
   "source": [
    "Results"
   ]
  },
  {
   "cell_type": "code",
   "execution_count": 12,
   "id": "ce8969ff",
   "metadata": {},
   "outputs": [
    {
     "name": "stdout",
     "output_type": "stream",
     "text": [
      "Logistic Regression: 89.99%\n",
      "K-Nearest Neighbors: 87.89%\n",
      "Decision Tree: 85.61%\n",
      "Support Vector Machine (Linear Kernel): 89.92%\n",
      "Support Vector Machine (RBF Kernel): 89.96%\n",
      "Neural Network: 89.69%\n",
      "Random Forest: 90.42%\n",
      "Gradient Boosting: 90.15%\n"
     ]
    }
   ],
   "source": [
    "#Get accuracy scores for all models for X, y test\n",
    "for name, model in models.items():\n",
    "    print(name + \": {:.2f}%\".format(model.score(X_test, y_test)*100))"
   ]
  },
  {
   "cell_type": "markdown",
   "id": "91ad6a7f",
   "metadata": {},
   "source": []
  }
 ],
 "metadata": {
  "kernelspec": {
   "display_name": "Python 3 (ipykernel)",
   "language": "python",
   "name": "python3"
  },
  "language_info": {
   "codemirror_mode": {
    "name": "ipython",
    "version": 3
   },
   "file_extension": ".py",
   "mimetype": "text/x-python",
   "name": "python",
   "nbconvert_exporter": "python",
   "pygments_lexer": "ipython3",
   "version": "3.8.12"
  }
 },
 "nbformat": 4,
 "nbformat_minor": 5
}
