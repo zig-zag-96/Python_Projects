{
 "cells": [
  {
   "cell_type": "markdown",
   "id": "a45c16b4",
   "metadata": {},
   "source": [
    "In this workbook I will split my data into testing and trianing sets and evaluate several different models: \n",
    "    1. Shuffle the data\n",
    "    2. Split the data into y, and X\n",
    "    3. Split the data into train and test\n",
    "    4. Models:\n",
    "        i) Logistic Regression\n",
    "        ii) KNearestNeighbors\n",
    "        iii) Decision Tree\n",
    "        iv) Linear kernel SVC \n",
    "        v) SVC \n",
    "        vi) Neural Netwrok\n",
    "        vii) Random Forest\n",
    "        viii) Gradient Boosting\n",
    "\n",
    "https://towardsdatascience.com/predicting-popularity-on-spotify-when-data-needs-culture-more-than-culture-needs-data-2ed3661f75f1\n"
   ]
  },
  {
   "cell_type": "code",
   "execution_count": 21,
   "id": "07fea56c",
   "metadata": {},
   "outputs": [],
   "source": [
    "#Import packages\n",
    "import pandas as pd\n",
    "import numpy as np\n",
    "import seaborn as sns\n",
    "import matplotlib.pyplot as plt\n",
    "import math\n",
    "\n",
    "from sklearn.preprocessing import StandardScaler\n",
    "from sklearn.model_selection import train_test_split, RandomizedSearchCV, cross_val_score  \n",
    "from sklearn.linear_model import LinearRegression, LogisticRegression\n",
    "from sklearn.ensemble import RandomForestClassifier, GradientBoostingClassifier\n",
    "from sklearn.tree import DecisionTreeClassifier\n",
    "from sklearn.neighbors import KNeighborsClassifier\n",
    "from sklearn.neural_network import MLPClassifier\n",
    "from sklearn.svm import SVC, LinearSVC\n",
    "\n",
    "from sklearn.metrics import roc_curve, auc, classification_report, confusion_matrix, accuracy_score"
   ]
  },
  {
   "cell_type": "code",
   "execution_count": 8,
   "id": "6e7f86ec",
   "metadata": {},
   "outputs": [],
   "source": [
    "#Import data\n",
    "data = pd.read_csv('C:\\\\Users\\\\ziggy\\\\Springboard\\\\Python_Projects\\\\Spotify Hit Prediction\\\\2_Exploratory Data Analysis\\\\Cleaned_FullDataset', index_col=0)\n"
   ]
  },
  {
   "cell_type": "code",
   "execution_count": 9,
   "id": "ebb031a9",
   "metadata": {},
   "outputs": [
    {
     "data": {
      "text/html": [
       "<div>\n",
       "<style scoped>\n",
       "    .dataframe tbody tr th:only-of-type {\n",
       "        vertical-align: middle;\n",
       "    }\n",
       "\n",
       "    .dataframe tbody tr th {\n",
       "        vertical-align: top;\n",
       "    }\n",
       "\n",
       "    .dataframe thead th {\n",
       "        text-align: right;\n",
       "    }\n",
       "</style>\n",
       "<table border=\"1\" class=\"dataframe\">\n",
       "  <thead>\n",
       "    <tr style=\"text-align: right;\">\n",
       "      <th></th>\n",
       "      <th>Title</th>\n",
       "      <th>Artist</th>\n",
       "      <th>URI</th>\n",
       "      <th>danceability</th>\n",
       "      <th>energy</th>\n",
       "      <th>key</th>\n",
       "      <th>loudness</th>\n",
       "      <th>mode</th>\n",
       "      <th>speechiness</th>\n",
       "      <th>acousticness</th>\n",
       "      <th>instrumentalness</th>\n",
       "      <th>liveness</th>\n",
       "      <th>valence</th>\n",
       "      <th>tempo</th>\n",
       "      <th>duration_ms</th>\n",
       "      <th>time_signature</th>\n",
       "      <th>Target</th>\n",
       "    </tr>\n",
       "  </thead>\n",
       "  <tbody>\n",
       "    <tr>\n",
       "      <th>0</th>\n",
       "      <td>hanging by a moment</td>\n",
       "      <td>lifehouse</td>\n",
       "      <td>0wqOReZDnrefefEsrIGeR4</td>\n",
       "      <td>0.541</td>\n",
       "      <td>0.864</td>\n",
       "      <td>1.0</td>\n",
       "      <td>-4.915</td>\n",
       "      <td>1.0</td>\n",
       "      <td>0.0357</td>\n",
       "      <td>0.00118</td>\n",
       "      <td>0.00000</td>\n",
       "      <td>0.0896</td>\n",
       "      <td>0.435</td>\n",
       "      <td>124.557</td>\n",
       "      <td>216067.0</td>\n",
       "      <td>4.0</td>\n",
       "      <td>1</td>\n",
       "    </tr>\n",
       "    <tr>\n",
       "      <th>1</th>\n",
       "      <td>fallin’</td>\n",
       "      <td>alicia keys</td>\n",
       "      <td>0KQx6HOpJueiSkztcS0r7D</td>\n",
       "      <td>0.652</td>\n",
       "      <td>0.609</td>\n",
       "      <td>11.0</td>\n",
       "      <td>-7.519</td>\n",
       "      <td>0.0</td>\n",
       "      <td>0.0370</td>\n",
       "      <td>0.26300</td>\n",
       "      <td>0.00101</td>\n",
       "      <td>0.2330</td>\n",
       "      <td>0.482</td>\n",
       "      <td>95.986</td>\n",
       "      <td>210200.0</td>\n",
       "      <td>3.0</td>\n",
       "      <td>1</td>\n",
       "    </tr>\n",
       "    <tr>\n",
       "      <th>2</th>\n",
       "      <td>all for you</td>\n",
       "      <td>janet jackson</td>\n",
       "      <td>5X8kkUaUlAyAUr9TYqDFTH</td>\n",
       "      <td>0.753</td>\n",
       "      <td>0.934</td>\n",
       "      <td>2.0</td>\n",
       "      <td>-3.011</td>\n",
       "      <td>1.0</td>\n",
       "      <td>0.0736</td>\n",
       "      <td>0.01740</td>\n",
       "      <td>0.06500</td>\n",
       "      <td>0.1280</td>\n",
       "      <td>0.730</td>\n",
       "      <td>113.525</td>\n",
       "      <td>329933.0</td>\n",
       "      <td>3.0</td>\n",
       "      <td>1</td>\n",
       "    </tr>\n",
       "    <tr>\n",
       "      <th>3</th>\n",
       "      <td>drops of jupiter (tell me)</td>\n",
       "      <td>train</td>\n",
       "      <td>2hKdd3qO7cWr2Jo0Bcs0MA</td>\n",
       "      <td>0.481</td>\n",
       "      <td>0.638</td>\n",
       "      <td>0.0</td>\n",
       "      <td>-5.862</td>\n",
       "      <td>1.0</td>\n",
       "      <td>0.0276</td>\n",
       "      <td>0.15300</td>\n",
       "      <td>0.00000</td>\n",
       "      <td>0.1540</td>\n",
       "      <td>0.497</td>\n",
       "      <td>79.064</td>\n",
       "      <td>259933.0</td>\n",
       "      <td>4.0</td>\n",
       "      <td>1</td>\n",
       "    </tr>\n",
       "    <tr>\n",
       "      <th>4</th>\n",
       "      <td>i’m real</td>\n",
       "      <td>jennifer lopez feat. ja rule</td>\n",
       "      <td>6MLsahMK3VvH9NUwXOktdS</td>\n",
       "      <td>0.708</td>\n",
       "      <td>0.587</td>\n",
       "      <td>11.0</td>\n",
       "      <td>-7.930</td>\n",
       "      <td>0.0</td>\n",
       "      <td>0.1510</td>\n",
       "      <td>0.27300</td>\n",
       "      <td>0.00000</td>\n",
       "      <td>0.0718</td>\n",
       "      <td>0.554</td>\n",
       "      <td>83.460</td>\n",
       "      <td>262133.0</td>\n",
       "      <td>4.0</td>\n",
       "      <td>1</td>\n",
       "    </tr>\n",
       "  </tbody>\n",
       "</table>\n",
       "</div>"
      ],
      "text/plain": [
       "                        Title                        Artist  \\\n",
       "0         hanging by a moment                     lifehouse   \n",
       "1                     fallin’                   alicia keys   \n",
       "2                 all for you                 janet jackson   \n",
       "3  drops of jupiter (tell me)                         train   \n",
       "4                    i’m real  jennifer lopez feat. ja rule   \n",
       "\n",
       "                      URI  danceability  energy   key  loudness  mode  \\\n",
       "0  0wqOReZDnrefefEsrIGeR4         0.541   0.864   1.0    -4.915   1.0   \n",
       "1  0KQx6HOpJueiSkztcS0r7D         0.652   0.609  11.0    -7.519   0.0   \n",
       "2  5X8kkUaUlAyAUr9TYqDFTH         0.753   0.934   2.0    -3.011   1.0   \n",
       "3  2hKdd3qO7cWr2Jo0Bcs0MA         0.481   0.638   0.0    -5.862   1.0   \n",
       "4  6MLsahMK3VvH9NUwXOktdS         0.708   0.587  11.0    -7.930   0.0   \n",
       "\n",
       "   speechiness  acousticness  instrumentalness  liveness  valence    tempo  \\\n",
       "0       0.0357       0.00118           0.00000    0.0896    0.435  124.557   \n",
       "1       0.0370       0.26300           0.00101    0.2330    0.482   95.986   \n",
       "2       0.0736       0.01740           0.06500    0.1280    0.730  113.525   \n",
       "3       0.0276       0.15300           0.00000    0.1540    0.497   79.064   \n",
       "4       0.1510       0.27300           0.00000    0.0718    0.554   83.460   \n",
       "\n",
       "   duration_ms  time_signature  Target  \n",
       "0     216067.0             4.0       1  \n",
       "1     210200.0             3.0       1  \n",
       "2     329933.0             3.0       1  \n",
       "3     259933.0             4.0       1  \n",
       "4     262133.0             4.0       1  "
      ]
     },
     "execution_count": 9,
     "metadata": {},
     "output_type": "execute_result"
    }
   ],
   "source": [
    "data.head()"
   ]
  },
  {
   "cell_type": "code",
   "execution_count": 10,
   "id": "ac0f4e8d",
   "metadata": {},
   "outputs": [],
   "source": [
    "#Shuffle dataset\n",
    "\n",
    "data = data.sample(frac=1, random_state=25).reset_index(drop=True)"
   ]
  },
  {
   "cell_type": "code",
   "execution_count": 11,
   "id": "8a355043",
   "metadata": {},
   "outputs": [
    {
     "data": {
      "text/html": [
       "<div>\n",
       "<style scoped>\n",
       "    .dataframe tbody tr th:only-of-type {\n",
       "        vertical-align: middle;\n",
       "    }\n",
       "\n",
       "    .dataframe tbody tr th {\n",
       "        vertical-align: top;\n",
       "    }\n",
       "\n",
       "    .dataframe thead th {\n",
       "        text-align: right;\n",
       "    }\n",
       "</style>\n",
       "<table border=\"1\" class=\"dataframe\">\n",
       "  <thead>\n",
       "    <tr style=\"text-align: right;\">\n",
       "      <th></th>\n",
       "      <th>Title</th>\n",
       "      <th>Artist</th>\n",
       "      <th>URI</th>\n",
       "      <th>danceability</th>\n",
       "      <th>energy</th>\n",
       "      <th>key</th>\n",
       "      <th>loudness</th>\n",
       "      <th>mode</th>\n",
       "      <th>speechiness</th>\n",
       "      <th>acousticness</th>\n",
       "      <th>instrumentalness</th>\n",
       "      <th>liveness</th>\n",
       "      <th>valence</th>\n",
       "      <th>tempo</th>\n",
       "      <th>duration_ms</th>\n",
       "      <th>time_signature</th>\n",
       "      <th>Target</th>\n",
       "    </tr>\n",
       "  </thead>\n",
       "  <tbody>\n",
       "    <tr>\n",
       "      <th>0</th>\n",
       "      <td>needle and thread</td>\n",
       "      <td>ages and ages</td>\n",
       "      <td>2aq5ASfM6GbR5Rw3bhl6Nu</td>\n",
       "      <td>0.621</td>\n",
       "      <td>0.555</td>\n",
       "      <td>5.0</td>\n",
       "      <td>-8.120</td>\n",
       "      <td>1.0</td>\n",
       "      <td>0.0305</td>\n",
       "      <td>0.367000</td>\n",
       "      <td>0.000008</td>\n",
       "      <td>0.188</td>\n",
       "      <td>0.660</td>\n",
       "      <td>81.464</td>\n",
       "      <td>182705.0</td>\n",
       "      <td>4.0</td>\n",
       "      <td>0</td>\n",
       "    </tr>\n",
       "    <tr>\n",
       "      <th>1</th>\n",
       "      <td>young americans (feat. charles kelley &amp; josh k...</td>\n",
       "      <td>colt ford</td>\n",
       "      <td>0ygs3Zbf3myQraevLS9jNk</td>\n",
       "      <td>0.603</td>\n",
       "      <td>0.814</td>\n",
       "      <td>4.0</td>\n",
       "      <td>-5.308</td>\n",
       "      <td>1.0</td>\n",
       "      <td>0.0297</td>\n",
       "      <td>0.013800</td>\n",
       "      <td>0.000000</td>\n",
       "      <td>0.746</td>\n",
       "      <td>0.846</td>\n",
       "      <td>90.037</td>\n",
       "      <td>170322.0</td>\n",
       "      <td>4.0</td>\n",
       "      <td>0</td>\n",
       "    </tr>\n",
       "    <tr>\n",
       "      <th>2</th>\n",
       "      <td>six pairs of feet and one pair of legs</td>\n",
       "      <td>julie christmas</td>\n",
       "      <td>3h01CU2OCeQBz6NY4PKzZc</td>\n",
       "      <td>0.233</td>\n",
       "      <td>0.629</td>\n",
       "      <td>7.0</td>\n",
       "      <td>-5.974</td>\n",
       "      <td>0.0</td>\n",
       "      <td>0.0391</td>\n",
       "      <td>0.000709</td>\n",
       "      <td>0.891000</td>\n",
       "      <td>0.113</td>\n",
       "      <td>0.134</td>\n",
       "      <td>117.639</td>\n",
       "      <td>262616.0</td>\n",
       "      <td>4.0</td>\n",
       "      <td>0</td>\n",
       "    </tr>\n",
       "    <tr>\n",
       "      <th>3</th>\n",
       "      <td>cater 2 u</td>\n",
       "      <td>destiny’s child</td>\n",
       "      <td>6uYAPqxP69zfpCbsTHXgiz</td>\n",
       "      <td>0.605</td>\n",
       "      <td>0.584</td>\n",
       "      <td>11.0</td>\n",
       "      <td>-7.043</td>\n",
       "      <td>0.0</td>\n",
       "      <td>0.1970</td>\n",
       "      <td>0.286000</td>\n",
       "      <td>0.000000</td>\n",
       "      <td>0.235</td>\n",
       "      <td>0.464</td>\n",
       "      <td>125.802</td>\n",
       "      <td>245400.0</td>\n",
       "      <td>4.0</td>\n",
       "      <td>1</td>\n",
       "    </tr>\n",
       "    <tr>\n",
       "      <th>4</th>\n",
       "      <td>cutthroat committee</td>\n",
       "      <td>young dolph</td>\n",
       "      <td>78myyEywJ4rMl8XCCu0Dr6</td>\n",
       "      <td>0.861</td>\n",
       "      <td>0.727</td>\n",
       "      <td>7.0</td>\n",
       "      <td>-5.622</td>\n",
       "      <td>1.0</td>\n",
       "      <td>0.2060</td>\n",
       "      <td>0.005570</td>\n",
       "      <td>0.000000</td>\n",
       "      <td>0.107</td>\n",
       "      <td>0.443</td>\n",
       "      <td>151.076</td>\n",
       "      <td>178107.0</td>\n",
       "      <td>4.0</td>\n",
       "      <td>0</td>\n",
       "    </tr>\n",
       "  </tbody>\n",
       "</table>\n",
       "</div>"
      ],
      "text/plain": [
       "                                               Title           Artist  \\\n",
       "0                                  needle and thread    ages and ages   \n",
       "1  young americans (feat. charles kelley & josh k...        colt ford   \n",
       "2             six pairs of feet and one pair of legs  julie christmas   \n",
       "3                                          cater 2 u  destiny’s child   \n",
       "4                                cutthroat committee      young dolph   \n",
       "\n",
       "                      URI  danceability  energy   key  loudness  mode  \\\n",
       "0  2aq5ASfM6GbR5Rw3bhl6Nu         0.621   0.555   5.0    -8.120   1.0   \n",
       "1  0ygs3Zbf3myQraevLS9jNk         0.603   0.814   4.0    -5.308   1.0   \n",
       "2  3h01CU2OCeQBz6NY4PKzZc         0.233   0.629   7.0    -5.974   0.0   \n",
       "3  6uYAPqxP69zfpCbsTHXgiz         0.605   0.584  11.0    -7.043   0.0   \n",
       "4  78myyEywJ4rMl8XCCu0Dr6         0.861   0.727   7.0    -5.622   1.0   \n",
       "\n",
       "   speechiness  acousticness  instrumentalness  liveness  valence    tempo  \\\n",
       "0       0.0305      0.367000          0.000008     0.188    0.660   81.464   \n",
       "1       0.0297      0.013800          0.000000     0.746    0.846   90.037   \n",
       "2       0.0391      0.000709          0.891000     0.113    0.134  117.639   \n",
       "3       0.1970      0.286000          0.000000     0.235    0.464  125.802   \n",
       "4       0.2060      0.005570          0.000000     0.107    0.443  151.076   \n",
       "\n",
       "   duration_ms  time_signature  Target  \n",
       "0     182705.0             4.0       0  \n",
       "1     170322.0             4.0       0  \n",
       "2     262616.0             4.0       0  \n",
       "3     245400.0             4.0       1  \n",
       "4     178107.0             4.0       0  "
      ]
     },
     "execution_count": 11,
     "metadata": {},
     "output_type": "execute_result"
    }
   ],
   "source": [
    "data.head()"
   ]
  },
  {
   "cell_type": "code",
   "execution_count": 12,
   "id": "5c162d17",
   "metadata": {},
   "outputs": [],
   "source": [
    "#preprocessing & split data into y, X and then into train and test.\n",
    "def preprocess_inputs(dataframe):\n",
    "    #Drop categorical variables\n",
    "    dataframe = dataframe.drop(['Title','Artist', 'URI'], axis=1)\n",
    "    #Split y, X\n",
    "    y= dataframe['Target']\n",
    "    X=dataframe.drop('Target', axis=1)\n",
    "    X_train, X_test, y_train, y_test = train_test_split(X, y, train_size=.7, shuffle=True, random_state=25)\n",
    "    #Scale \n",
    "    scaler = StandardScaler()\n",
    "    scaler.fit(X_train)\n",
    "    X_train = pd.DataFrame(scaler.transform(X_train), index = X_train.index, columns = X_train.columns)\n",
    "    X_test = pd.DataFrame(scaler.transform(X_test), index = X_test.index, columns = X_test.columns)\n",
    "    return X_train, X_test, y_train, y_test"
   ]
  },
  {
   "cell_type": "code",
   "execution_count": 13,
   "id": "10084148",
   "metadata": {},
   "outputs": [],
   "source": [
    "X_train, X_test, y_train, y_test = preprocess_inputs(data)\n"
   ]
  },
  {
   "cell_type": "code",
   "execution_count": 14,
   "id": "f4f046b0",
   "metadata": {},
   "outputs": [
    {
     "data": {
      "text/plain": [
       "0    10812\n",
       "1     1267\n",
       "Name: Target, dtype: int64"
      ]
     },
     "execution_count": 14,
     "metadata": {},
     "output_type": "execute_result"
    }
   ],
   "source": [
    "y_train.value_counts()"
   ]
  },
  {
   "cell_type": "code",
   "execution_count": 15,
   "id": "544930ee",
   "metadata": {},
   "outputs": [
    {
     "name": "stdout",
     "output_type": "stream",
     "text": [
      "The number of hit songs represents 11.82 % of the y_train datset.\n"
     ]
    }
   ],
   "source": [
    "print('The number of hit  songs represents',round(1277/10802*100, 2),'% of the y_train datset.')"
   ]
  },
  {
   "cell_type": "code",
   "execution_count": 16,
   "id": "406e445e",
   "metadata": {},
   "outputs": [
    {
     "data": {
      "text/plain": [
       "0    4647\n",
       "1     530\n",
       "Name: Target, dtype: int64"
      ]
     },
     "execution_count": 16,
     "metadata": {},
     "output_type": "execute_result"
    }
   ],
   "source": [
    "y_test.value_counts()"
   ]
  },
  {
   "cell_type": "code",
   "execution_count": 17,
   "id": "5e3336c6",
   "metadata": {},
   "outputs": [
    {
     "name": "stdout",
     "output_type": "stream",
     "text": [
      "The number of hit songs represents 11.17 % of the y_test datset.\n"
     ]
    }
   ],
   "source": [
    "print('The number of hit songs represents',round(520/4657*100, 2),'% of the y_test datset.')"
   ]
  },
  {
   "cell_type": "code",
   "execution_count": 18,
   "id": "09da81b3",
   "metadata": {},
   "outputs": [
    {
     "data": {
      "text/plain": [
       "danceability        1.000083\n",
       "energy              1.000083\n",
       "key                 1.000083\n",
       "loudness            1.000083\n",
       "mode                1.000083\n",
       "speechiness         1.000083\n",
       "acousticness        1.000083\n",
       "instrumentalness    1.000083\n",
       "liveness            1.000083\n",
       "valence             1.000083\n",
       "tempo               1.000083\n",
       "duration_ms         1.000083\n",
       "time_signature      1.000083\n",
       "dtype: float64"
      ]
     },
     "execution_count": 18,
     "metadata": {},
     "output_type": "execute_result"
    }
   ],
   "source": [
    "X_train.var()"
   ]
  },
  {
   "cell_type": "markdown",
   "id": "f43f01d8",
   "metadata": {},
   "source": [
    "Training:\n",
    "\n",
    "Models:\n",
    "    Logistic Regression : LogisticRegression()\n",
    "    K-Nearest Neighbors : KNeighborsClassifier()\n",
    "    Decision Tree : DecisionTreeClassifier()\n",
    "    Support Vector Machine (Linear Kernel) : LinearSVC()\n",
    "    Support Vector Machine (RBF Kernel) : SVC()\n",
    "    Neural Network : MLPClassifier()\n",
    "    Random Forest : RandomForestClassifier()\n",
    "    Gradient Boosting : GradientBoostingClassifier()\n"
   ]
  },
  {
   "cell_type": "code",
   "execution_count": 19,
   "id": "31fd9f9e",
   "metadata": {},
   "outputs": [
    {
     "name": "stdout",
     "output_type": "stream",
     "text": [
      "Logistic Regression: 89.65%\n"
     ]
    },
    {
     "data": {
      "text/plain": [
       "(1, 2, 4, 6, 7, 8, 13)"
      ]
     },
     "execution_count": 19,
     "metadata": {},
     "output_type": "execute_result"
    }
   ],
   "source": [
    "#Logistic Regression \n",
    "\n",
    "logistic_model = LogisticRegression()\n",
    "logistic_model.fit(X_train, y_train)\n",
    "\n",
    "y_pred_logistic = logistic_model.decision_function(X_test)\n",
    "    \n",
    "print(\"Logistic Regression:\" + \" {:.2f}%\".format(logistic_model.score(X_test, y_test)*100))\n",
    "\n",
    "1,2,4,6,7,8,13\n",
    "#multiply coeficients by std \n",
    "\n",
    "#dummy classifier from sklearn"
   ]
  },
  {
   "cell_type": "code",
   "execution_count": 33,
   "id": "399f4834",
   "metadata": {},
   "outputs": [
    {
     "name": "stdout",
     "output_type": "stream",
     "text": [
      "Coefficients: \n",
      " [[ 0.46635083 -0.90537029  0.04984175  2.53725904 -0.03553295 -0.33220638\n",
      "  -0.77338189 -1.89522311 -0.23505458  0.0111005  -0.00270143  0.05564394\n",
      "   0.33746755]]\n"
     ]
    }
   ],
   "source": [
    "print(\"Coefficients: \\n\", logistic_model.coef_)"
   ]
  },
  {
   "cell_type": "code",
   "execution_count": 35,
   "id": "e0f9f14f",
   "metadata": {},
   "outputs": [
    {
     "data": {
      "text/plain": [
       "12.644964086709212"
      ]
     },
     "execution_count": 35,
     "metadata": {},
     "output_type": "execute_result"
    }
   ],
   "source": [
    "math.exp(2.53725904)"
   ]
  },
  {
   "cell_type": "code",
   "execution_count": 20,
   "id": "8af702f1",
   "metadata": {},
   "outputs": [
    {
     "data": {
      "text/plain": [
       "{'C': 1.0,\n",
       " 'class_weight': None,\n",
       " 'dual': False,\n",
       " 'fit_intercept': True,\n",
       " 'intercept_scaling': 1,\n",
       " 'l1_ratio': None,\n",
       " 'max_iter': 100,\n",
       " 'multi_class': 'auto',\n",
       " 'n_jobs': None,\n",
       " 'penalty': 'l2',\n",
       " 'random_state': None,\n",
       " 'solver': 'lbfgs',\n",
       " 'tol': 0.0001,\n",
       " 'verbose': 0,\n",
       " 'warm_start': False}"
      ]
     },
     "execution_count": 20,
     "metadata": {},
     "output_type": "execute_result"
    }
   ],
   "source": [
    "logistic_model.get_params(deep=True)"
   ]
  },
  {
   "cell_type": "code",
   "execution_count": 21,
   "id": "b72a1a8e",
   "metadata": {},
   "outputs": [
    {
     "name": "stdout",
     "output_type": "stream",
     "text": [
      "K-Nearest Neighbors: 87.81%\n"
     ]
    }
   ],
   "source": [
    "#K-Nearest Neighbors\n",
    "KNN_model = KNeighborsClassifier()\n",
    "KNN_model.fit(X_train, y_train)\n",
    "\n",
    "y_pred_KNN = KNN_model.predict_proba(X_test)\n",
    "    \n",
    "print(\"K-Nearest Neighbors:\" + \" {:.2f}%\".format(KNN_model.score(X_test, y_test)*100))\n"
   ]
  },
  {
   "cell_type": "code",
   "execution_count": 22,
   "id": "b2abe56a",
   "metadata": {},
   "outputs": [
    {
     "name": "stdout",
     "output_type": "stream",
     "text": [
      "Decision Tree: 85.30%\n"
     ]
    }
   ],
   "source": [
    "#Decision tree\n",
    "Tree_model = DecisionTreeClassifier()\n",
    "Tree_model.fit(X_train, y_train)\n",
    "\n",
    "y_pred_tree = Tree_model.predict(X_test)\n",
    "    \n",
    "print(\"Decision Tree:\" + \" {:.2f}%\".format(Tree_model.score(X_test, y_test)*100))"
   ]
  },
  {
   "cell_type": "code",
   "execution_count": 23,
   "id": "a6d4f5c2",
   "metadata": {},
   "outputs": [
    {
     "name": "stdout",
     "output_type": "stream",
     "text": [
      "[[4264  383]\n",
      " [ 378  152]]\n",
      "              precision    recall  f1-score   support\n",
      "\n",
      "           0       0.92      0.92      0.92      4647\n",
      "           1       0.28      0.29      0.29       530\n",
      "\n",
      "    accuracy                           0.85      5177\n",
      "   macro avg       0.60      0.60      0.60      5177\n",
      "weighted avg       0.85      0.85      0.85      5177\n",
      "\n"
     ]
    }
   ],
   "source": [
    "print(confusion_matrix(y_test, y_pred_tree))\n",
    "print(classification_report(y_test, y_pred_tree))"
   ]
  },
  {
   "cell_type": "code",
   "execution_count": 24,
   "id": "c1cc0801",
   "metadata": {},
   "outputs": [
    {
     "name": "stdout",
     "output_type": "stream",
     "text": [
      "Support Vector Machine (Linear Kernel): 89.80%\n"
     ]
    },
    {
     "name": "stderr",
     "output_type": "stream",
     "text": [
      "C:\\Users\\ziggy\\anaconda3\\envs\\Springboard\\lib\\site-packages\\sklearn\\svm\\_base.py:1206: ConvergenceWarning: Liblinear failed to converge, increase the number of iterations.\n",
      "  warnings.warn(\n"
     ]
    }
   ],
   "source": [
    "#SVM (Linear Kernel)\n",
    "\n",
    "SVM_model = LinearSVC()\n",
    "SVM_model.fit(X_train, y_train)\n",
    "\n",
    "y_pred_SVM = SVM_model.decision_function(X_test)\n",
    "    \n",
    "print(\"Support Vector Machine (Linear Kernel):\" + \" {:.2f}%\".format(SVM_model.score(X_test, y_test)*100))\n",
    "\n",
    "#coeficient method. "
   ]
  },
  {
   "cell_type": "code",
   "execution_count": 25,
   "id": "2f33e678",
   "metadata": {},
   "outputs": [
    {
     "name": "stdout",
     "output_type": "stream",
     "text": [
      "Support Vector Machine (RBF Kernel): 89.76%\n"
     ]
    }
   ],
   "source": [
    "#SVM (RBF Kernel)\n",
    "\n",
    "SVC_model = SVC()\n",
    "SVC_model.fit(X_train, y_train)\n",
    "\n",
    "y_pred_SVC = SVC_model.decision_function(X_test)\n",
    "    \n",
    "print(\"Support Vector Machine (RBF Kernel):\" + \" {:.2f}%\".format(SVC_model.score(X_test, y_test)*100))"
   ]
  },
  {
   "cell_type": "code",
   "execution_count": 26,
   "id": "f9b19ab4",
   "metadata": {},
   "outputs": [
    {
     "name": "stdout",
     "output_type": "stream",
     "text": [
      "Neural Network: 89.63%\n"
     ]
    },
    {
     "name": "stderr",
     "output_type": "stream",
     "text": [
      "C:\\Users\\ziggy\\anaconda3\\envs\\Springboard\\lib\\site-packages\\sklearn\\neural_network\\_multilayer_perceptron.py:692: ConvergenceWarning: Stochastic Optimizer: Maximum iterations (200) reached and the optimization hasn't converged yet.\n",
      "  warnings.warn(\n"
     ]
    }
   ],
   "source": [
    "#Neural Network\n",
    "\n",
    "Neural_model = MLPClassifier()\n",
    "Neural_model.fit(X_train, y_train)\n",
    "\n",
    "\n",
    "  \n",
    "print(\"Neural Network:\" + \" {:.2f}%\".format(Neural_model.score(X_test, y_test)*100))"
   ]
  },
  {
   "cell_type": "code",
   "execution_count": 27,
   "id": "9f6bac2d",
   "metadata": {},
   "outputs": [
    {
     "name": "stdout",
     "output_type": "stream",
     "text": [
      "Random Forest: 89.97%\n"
     ]
    }
   ],
   "source": [
    "#Radom Forest\n",
    "\n",
    "Forest_model = RandomForestClassifier()\n",
    "Forest_model.fit(X_train, y_train)\n",
    "\n",
    "y_pred_forest = Forest_model.predict(X_test)\n",
    "    \n",
    "print(\"Random Forest:\" + \" {:.2f}%\".format(Forest_model.score(X_test, y_test)*100))"
   ]
  },
  {
   "cell_type": "code",
   "execution_count": 28,
   "id": "55a4f724",
   "metadata": {},
   "outputs": [
    {
     "name": "stdout",
     "output_type": "stream",
     "text": [
      "Gradient Boosting: 89.76%\n"
     ]
    }
   ],
   "source": [
    "#Gradient Boosting\n",
    "\n",
    "Gradient_model = GradientBoostingClassifier()\n",
    "Gradient_model.fit(X_train, y_train)\n",
    "\n",
    "#y_pred_Neural = Neural_model.decision_function(X_test)\n",
    "    \n",
    "print(\"Gradient Boosting:\" + \" {:.2f}%\".format(Gradient_model.score(X_test, y_test)*100))"
   ]
  },
  {
   "cell_type": "markdown",
   "id": "078d0db4",
   "metadata": {},
   "source": [
    "All models score between 85-90 % accuracy. This might seem quite high but in actuality, the hit songs represent about 10% of the training and testing data. I will now compute the ROC curve to get a beter idea of how good the models are."
   ]
  },
  {
   "cell_type": "code",
   "execution_count": 59,
   "id": "40fbcae7",
   "metadata": {
    "scrolled": false
   },
   "outputs": [
    {
     "data": {
      "text/plain": [
       "<matplotlib.legend.Legend at 0x2aa15a19760>"
      ]
     },
     "execution_count": 59,
     "metadata": {},
     "output_type": "execute_result"
    },
    {
     "data": {
      "image/png": "[encoded data removed]",
      "text/plain": [
       "<Figure size 1000x1000 with 1 Axes>"
      ]
     },
     "metadata": {
      "needs_background": "light"
     },
     "output_type": "display_data"
    }
   ],
   "source": [
    "#ROC curve for Logistic, KNN, SVMs\n",
    "\n",
    "logistic_fpr, logistic_tpr, threshold = roc_curve(y_test, y_pred_logistic)\n",
    "auc_logistic = auc(logistic_fpr, logistic_tpr)\n",
    "\n",
    "knn_fpr, knn_tpr, threshold = roc_curve(y_test, y_pred_KNN[:,1])\n",
    "\n",
    "svm_fpr, svm_tpr, threshold = roc_curve(y_test, y_pred_SVM)\n",
    "auc_svm = auc(svm_fpr, svm_tpr)\n",
    "\n",
    "svc_fpr, svc_tpr, threshold = roc_curve(y_test, y_pred_SVC)\n",
    "auc_svc = auc(svc_fpr, svc_tpr)\n",
    "\n",
    "nn_fpr, nn_tpr, threshold = roc_curve(y_test, y_pred)\n",
    "auc_nn = auc(nn_fpr, nn_tpr)\n",
    "\n",
    "forest_fpr, forest_tpr, threshold = roc_curve(y_test, y_pred_forest)\n",
    "auc_forest = auc(forest_fpr, forest_tpr)\n",
    "\n",
    "plt.figure(figsize=(10,10), dpi=100)\n",
    "plt.plot(svm_fpr, svm_tpr, linestyle='-', label=\"SVM (auc = %0.3f)\" % auc_svm)\n",
    "plt.plot(logistic_fpr, logistic_tpr, linestyle='-', label=\"Logistic (auc = %0.3f)\" % auc_logistic)\n",
    "plt.plot(svc_fpr, svc_tpr, linestyle='-', label=\"SVC (auc = %0.3f)\" % auc_svc)\n",
    "plt.plot(knn_fpr, knn_tpr, linestyle='-', label=\"KNN\")\n",
    "plt.plot(nn_fpr, nn_tpr,linestyle='-', label=\"Neural Network (auc= %0.3f)\" % auc_nn)\n",
    "plt.plot(forest_fpr, forest_tpr,linestyle='-', label=\"Random Forest (auc= %0.3f)\" % auc_forest)\n",
    "\n",
    "plt.xlabel('False positive rate')\n",
    "plt.ylabel('True positive rate')\n",
    "plt.legend()\n"
   ]
  }
 ],
 "metadata": {
  "kernelspec": {
   "display_name": "Python 3 (ipykernel)",
   "language": "python",
   "name": "python3"
  },
  "language_info": {
   "codemirror_mode": {
    "name": "ipython",
    "version": 3
   },
   "file_extension": ".py",
   "mimetype": "text/x-python",
   "name": "python",
   "nbconvert_exporter": "python",
   "pygments_lexer": "ipython3",
   "version": "3.8.12"
  }
 },
 "nbformat": 4,
 "nbformat_minor": 5
}
