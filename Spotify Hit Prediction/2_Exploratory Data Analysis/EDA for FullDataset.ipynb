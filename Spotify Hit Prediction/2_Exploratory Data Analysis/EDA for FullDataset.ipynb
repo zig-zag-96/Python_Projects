{
 "cells": [
  {
   "cell_type": "code",
   "execution_count": 28,
   "id": "bce50973",
   "metadata": {},
   "outputs": [],
   "source": [
    "#import modules\n",
    "\n",
    "import pandas as pd\n",
    "import numpy as np\n",
    "import matplotlib.pyplot as plt\n",
    "import seaborn as sns\n",
    "\n",
    "from sklearn.decomposition import PCA\n",
    "from sklearn.preprocessing import scale"
   ]
  },
  {
   "cell_type": "code",
   "execution_count": 29,
   "id": "3454edac",
   "metadata": {},
   "outputs": [
    {
     "data": {
      "text/plain": [
       "'C:\\\\Users\\\\ziggy\\\\Springboard\\\\Python_Projects\\\\Spotify Hit Prediction\\\\1_Preprocessing\\\\EDA'"
      ]
     },
     "execution_count": 29,
     "metadata": {},
     "output_type": "execute_result"
    }
   ],
   "source": [
    "pwd"
   ]
  },
  {
   "cell_type": "code",
   "execution_count": 30,
   "id": "087aaa39",
   "metadata": {},
   "outputs": [],
   "source": [
    "df = pd.read_csv(r'C:\\\\Users\\\\ziggy\\\\Springboard\\\\Python_Projects\\\\Spotify Hit Prediction\\\\1_Preprocessing\\\\Data Wrangling\\\\FullDataset.csv', index_col=0)"
   ]
  },
  {
   "cell_type": "code",
   "execution_count": 31,
   "id": "f1927001",
   "metadata": {},
   "outputs": [
    {
     "data": {
      "text/html": [
       "<div>\n",
       "<style scoped>\n",
       "    .dataframe tbody tr th:only-of-type {\n",
       "        vertical-align: middle;\n",
       "    }\n",
       "\n",
       "    .dataframe tbody tr th {\n",
       "        vertical-align: top;\n",
       "    }\n",
       "\n",
       "    .dataframe thead th {\n",
       "        text-align: right;\n",
       "    }\n",
       "</style>\n",
       "<table border=\"1\" class=\"dataframe\">\n",
       "  <thead>\n",
       "    <tr style=\"text-align: right;\">\n",
       "      <th></th>\n",
       "      <th>Title</th>\n",
       "      <th>Artist</th>\n",
       "      <th>URI</th>\n",
       "      <th>Target</th>\n",
       "      <th>danceability</th>\n",
       "      <th>energy</th>\n",
       "      <th>key</th>\n",
       "      <th>loudness</th>\n",
       "      <th>mode</th>\n",
       "      <th>speechiness</th>\n",
       "      <th>acousticness</th>\n",
       "      <th>instrumentalness</th>\n",
       "      <th>liveness</th>\n",
       "      <th>valence</th>\n",
       "      <th>tempo</th>\n",
       "      <th>duration_ms</th>\n",
       "      <th>time_signature</th>\n",
       "    </tr>\n",
       "  </thead>\n",
       "  <tbody>\n",
       "    <tr>\n",
       "      <th>0</th>\n",
       "      <td>hanging by a moment</td>\n",
       "      <td>lifehouse</td>\n",
       "      <td>0wqOReZDnrefefEsrIGeR4</td>\n",
       "      <td>1</td>\n",
       "      <td>0.541</td>\n",
       "      <td>0.864</td>\n",
       "      <td>1.0</td>\n",
       "      <td>-4.915</td>\n",
       "      <td>1.0</td>\n",
       "      <td>0.0357</td>\n",
       "      <td>0.00118</td>\n",
       "      <td>0.00000</td>\n",
       "      <td>0.0896</td>\n",
       "      <td>0.435</td>\n",
       "      <td>124.557</td>\n",
       "      <td>216067.0</td>\n",
       "      <td>4.0</td>\n",
       "    </tr>\n",
       "    <tr>\n",
       "      <th>1</th>\n",
       "      <td>fallin’</td>\n",
       "      <td>alicia keys</td>\n",
       "      <td>0KQx6HOpJueiSkztcS0r7D</td>\n",
       "      <td>1</td>\n",
       "      <td>0.652</td>\n",
       "      <td>0.609</td>\n",
       "      <td>11.0</td>\n",
       "      <td>-7.519</td>\n",
       "      <td>0.0</td>\n",
       "      <td>0.0370</td>\n",
       "      <td>0.26300</td>\n",
       "      <td>0.00101</td>\n",
       "      <td>0.2330</td>\n",
       "      <td>0.482</td>\n",
       "      <td>95.986</td>\n",
       "      <td>210200.0</td>\n",
       "      <td>3.0</td>\n",
       "    </tr>\n",
       "    <tr>\n",
       "      <th>2</th>\n",
       "      <td>all for you</td>\n",
       "      <td>janet jackson</td>\n",
       "      <td>5X8kkUaUlAyAUr9TYqDFTH</td>\n",
       "      <td>1</td>\n",
       "      <td>0.753</td>\n",
       "      <td>0.934</td>\n",
       "      <td>2.0</td>\n",
       "      <td>-3.011</td>\n",
       "      <td>1.0</td>\n",
       "      <td>0.0736</td>\n",
       "      <td>0.01740</td>\n",
       "      <td>0.06500</td>\n",
       "      <td>0.1280</td>\n",
       "      <td>0.730</td>\n",
       "      <td>113.525</td>\n",
       "      <td>329933.0</td>\n",
       "      <td>3.0</td>\n",
       "    </tr>\n",
       "    <tr>\n",
       "      <th>3</th>\n",
       "      <td>drops of jupiter (tell me)</td>\n",
       "      <td>train</td>\n",
       "      <td>2hKdd3qO7cWr2Jo0Bcs0MA</td>\n",
       "      <td>1</td>\n",
       "      <td>0.481</td>\n",
       "      <td>0.638</td>\n",
       "      <td>0.0</td>\n",
       "      <td>-5.862</td>\n",
       "      <td>1.0</td>\n",
       "      <td>0.0276</td>\n",
       "      <td>0.15300</td>\n",
       "      <td>0.00000</td>\n",
       "      <td>0.1540</td>\n",
       "      <td>0.497</td>\n",
       "      <td>79.064</td>\n",
       "      <td>259933.0</td>\n",
       "      <td>4.0</td>\n",
       "    </tr>\n",
       "    <tr>\n",
       "      <th>4</th>\n",
       "      <td>i’m real</td>\n",
       "      <td>jennifer lopez feat. ja rule</td>\n",
       "      <td>6MLsahMK3VvH9NUwXOktdS</td>\n",
       "      <td>1</td>\n",
       "      <td>0.708</td>\n",
       "      <td>0.587</td>\n",
       "      <td>11.0</td>\n",
       "      <td>-7.930</td>\n",
       "      <td>0.0</td>\n",
       "      <td>0.1510</td>\n",
       "      <td>0.27300</td>\n",
       "      <td>0.00000</td>\n",
       "      <td>0.0718</td>\n",
       "      <td>0.554</td>\n",
       "      <td>83.460</td>\n",
       "      <td>262133.0</td>\n",
       "      <td>4.0</td>\n",
       "    </tr>\n",
       "  </tbody>\n",
       "</table>\n",
       "</div>"
      ],
      "text/plain": [
       "                        Title                        Artist  \\\n",
       "0         hanging by a moment                     lifehouse   \n",
       "1                     fallin’                   alicia keys   \n",
       "2                 all for you                 janet jackson   \n",
       "3  drops of jupiter (tell me)                         train   \n",
       "4                    i’m real  jennifer lopez feat. ja rule   \n",
       "\n",
       "                      URI  Target  danceability  energy   key  loudness  mode  \\\n",
       "0  0wqOReZDnrefefEsrIGeR4       1         0.541   0.864   1.0    -4.915   1.0   \n",
       "1  0KQx6HOpJueiSkztcS0r7D       1         0.652   0.609  11.0    -7.519   0.0   \n",
       "2  5X8kkUaUlAyAUr9TYqDFTH       1         0.753   0.934   2.0    -3.011   1.0   \n",
       "3  2hKdd3qO7cWr2Jo0Bcs0MA       1         0.481   0.638   0.0    -5.862   1.0   \n",
       "4  6MLsahMK3VvH9NUwXOktdS       1         0.708   0.587  11.0    -7.930   0.0   \n",
       "\n",
       "   speechiness  acousticness  instrumentalness  liveness  valence    tempo  \\\n",
       "0       0.0357       0.00118           0.00000    0.0896    0.435  124.557   \n",
       "1       0.0370       0.26300           0.00101    0.2330    0.482   95.986   \n",
       "2       0.0736       0.01740           0.06500    0.1280    0.730  113.525   \n",
       "3       0.0276       0.15300           0.00000    0.1540    0.497   79.064   \n",
       "4       0.1510       0.27300           0.00000    0.0718    0.554   83.460   \n",
       "\n",
       "   duration_ms  time_signature  \n",
       "0     216067.0             4.0  \n",
       "1     210200.0             3.0  \n",
       "2     329933.0             3.0  \n",
       "3     259933.0             4.0  \n",
       "4     262133.0             4.0  "
      ]
     },
     "execution_count": 31,
     "metadata": {},
     "output_type": "execute_result"
    }
   ],
   "source": [
    "df.reset_index\n",
    "df.head()\n"
   ]
  },
  {
   "cell_type": "markdown",
   "id": "1cd77788",
   "metadata": {},
   "source": [
    "Definititons:\n",
    "acousticness: A confidence measure from 0.0 to 1.0 of whether the track is acoustic. 1.0 represents high confidence the track is acoustic.\n",
    "   \n",
    "Danceability describes how suitable a track is for dancing based on a combination of musical elements including tempo, rhythm stability, beat strength, and overall regularity. A value of 0.0 is least danceable and 1.0 is most danceable.\n",
    "    \n",
    "instrumentalness: Predicts whether a track contains no vocals. \"Ooh\" and \"aah\" sounds are treated as instrumental in this context. Rap or spoken word tracks are clearly \"vocal\". The closer the instrumentalness value is to 1.0, the greater likelihood the track contains no vocal content. Values above 0.5 are intended to represent instrumental tracks, but confidence is higher as the value approaches 1.0.\n",
    "\n",
    "key: The key the track is in. Integers map to pitches using standard Pitch Class notation. E.g. 0 = C, 1 = C♯/D♭, 2 = D, and so on. If no key was detected, the value is -1.\n",
    "\n",
    "time_signature: An estimated time signature. The time signature (meter) is a notational convention to specify how many beats are in each bar (or measure). The time signature ranges from 3 to 7 indicating time signatures of \"3/4\", to \"7/4\".\n",
    "\n",
    "Mode indicates the modality (major or minor) of a track, the type of scale from which its melodic content is derived. Major is represented by 1 and minor is 0\n",
    "\n"
   ]
  },
  {
   "cell_type": "code",
   "execution_count": 32,
   "id": "f4b81fef",
   "metadata": {},
   "outputs": [
    {
     "name": "stdout",
     "output_type": "stream",
     "text": [
      "<class 'pandas.core.frame.DataFrame'>\n",
      "Int64Index: 17495 entries, 0 to 15697\n",
      "Data columns (total 17 columns):\n",
      " #   Column            Non-Null Count  Dtype\n",
      "---  ------            --------------  -----\n",
      " 0   Title             17495 non-null  bool \n",
      " 1   Artist            17495 non-null  bool \n",
      " 2   URI               17495 non-null  bool \n",
      " 3   Target            17495 non-null  bool \n",
      " 4   danceability      17495 non-null  bool \n",
      " 5   energy            17495 non-null  bool \n",
      " 6   key               17495 non-null  bool \n",
      " 7   loudness          17495 non-null  bool \n",
      " 8   mode              17495 non-null  bool \n",
      " 9   speechiness       17495 non-null  bool \n",
      " 10  acousticness      17495 non-null  bool \n",
      " 11  instrumentalness  17495 non-null  bool \n",
      " 12  liveness          17495 non-null  bool \n",
      " 13  valence           17495 non-null  bool \n",
      " 14  tempo             17495 non-null  bool \n",
      " 15  duration_ms       17495 non-null  bool \n",
      " 16  time_signature    17495 non-null  bool \n",
      "dtypes: bool(17)\n",
      "memory usage: 427.1 KB\n"
     ]
    }
   ],
   "source": [
    "df.isna().info()"
   ]
  },
  {
   "cell_type": "code",
   "execution_count": 33,
   "id": "8e3da632",
   "metadata": {},
   "outputs": [
    {
     "data": {
      "text/plain": [
       "Title                object\n",
       "Artist               object\n",
       "URI                  object\n",
       "Target                int64\n",
       "danceability        float64\n",
       "energy              float64\n",
       "key                 float64\n",
       "loudness            float64\n",
       "mode                float64\n",
       "speechiness         float64\n",
       "acousticness        float64\n",
       "instrumentalness    float64\n",
       "liveness            float64\n",
       "valence             float64\n",
       "tempo               float64\n",
       "duration_ms         float64\n",
       "time_signature      float64\n",
       "dtype: object"
      ]
     },
     "execution_count": 33,
     "metadata": {},
     "output_type": "execute_result"
    }
   ],
   "source": [
    "df.dtypes"
   ]
  },
  {
   "cell_type": "code",
   "execution_count": 39,
   "id": "b6900994",
   "metadata": {},
   "outputs": [
    {
     "name": "stdout",
     "output_type": "stream",
     "text": [
      "No. of unique URIs : 17373\n"
     ]
    }
   ],
   "source": [
    "n = len(pd.unique(df['URI']))\n",
    "  \n",
    "print(\"No. of unique URIs :\", \n",
    "      n)"
   ]
  },
  {
   "cell_type": "code",
   "execution_count": 41,
   "id": "c5e9a3ca",
   "metadata": {},
   "outputs": [
    {
     "data": {
      "text/plain": [
       "0"
      ]
     },
     "execution_count": 41,
     "metadata": {},
     "output_type": "execute_result"
    }
   ],
   "source": [
    "df.duplicated().sum()"
   ]
  },
  {
   "cell_type": "code",
   "execution_count": null,
   "id": "a8c5929b",
   "metadata": {},
   "outputs": [],
   "source": []
  }
 ],
 "metadata": {
  "kernelspec": {
   "display_name": "Python 3 (ipykernel)",
   "language": "python",
   "name": "python3"
  },
  "language_info": {
   "codemirror_mode": {
    "name": "ipython",
    "version": 3
   },
   "file_extension": ".py",
   "mimetype": "text/x-python",
   "name": "python",
   "nbconvert_exporter": "python",
   "pygments_lexer": "ipython3",
   "version": "3.8.12"
  }
 },
 "nbformat": 4,
 "nbformat_minor": 5
}
