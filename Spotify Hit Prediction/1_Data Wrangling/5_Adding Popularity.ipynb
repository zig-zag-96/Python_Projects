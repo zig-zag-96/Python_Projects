{
 "cells": [
  {
   "cell_type": "markdown",
   "id": "02d3faec",
   "metadata": {},
   "source": [
    "In this notebook I will..."
   ]
  },
  {
   "cell_type": "code",
   "execution_count": 1,
   "id": "33dc1130",
   "metadata": {},
   "outputs": [],
   "source": [
    "# get api key from your .env file\n",
    "\n",
    "import os\n",
    "from dotenv import load_dotenv\n",
    "from pathlib import Path\n",
    "\n",
    "dotenv_path = Path('./SpotifyAPIKey.env')\n",
    "load_dotenv(dotenv_path=dotenv_path)\n",
    "\n",
    "#load_dotenv()\n",
    "API_CLIENT_ID = os.getenv('SPOTIFY_CLIENT_ID')\n",
    "API_CLIENT_SECRET = os.getenv('SPOTIFY_CLIENT_SECRET')\n"
   ]
  },
  {
   "cell_type": "code",
   "execution_count": 2,
   "id": "24abfe80",
   "metadata": {},
   "outputs": [],
   "source": [
    "import pandas as pd\n",
    "import spotipy\n",
    "from spotipy.oauth2 import SpotifyClientCredentials\n",
    "import numpy as np"
   ]
  },
  {
   "cell_type": "code",
   "execution_count": 3,
   "id": "969c17ac",
   "metadata": {},
   "outputs": [],
   "source": [
    "client_credentials_manager = SpotifyClientCredentials(client_id=API_CLIENT_ID,client_secret=API_CLIENT_SECRET)\n",
    "sp = spotipy.Spotify(client_credentials_manager=client_credentials_manager)"
   ]
  },
  {
   "cell_type": "code",
   "execution_count": 4,
   "id": "51255c68",
   "metadata": {},
   "outputs": [],
   "source": [
    "def get_pop(URI):\n",
    "    features = sp.track(track_id=URI)\n",
    "    pop = features['popularity']\n",
    "    return pop"
   ]
  },
  {
   "cell_type": "code",
   "execution_count": 5,
   "id": "5c54f1f5",
   "metadata": {},
   "outputs": [
    {
     "data": {
      "text/plain": [
       "73"
      ]
     },
     "execution_count": 5,
     "metadata": {},
     "output_type": "execute_result"
    }
   ],
   "source": [
    "get_pop('5c1QJAiC3773EwiZLwHf5x')"
   ]
  },
  {
   "cell_type": "code",
   "execution_count": 6,
   "id": "63e63b43",
   "metadata": {},
   "outputs": [],
   "source": [
    "#Import dataset\n",
    "\n",
    "data = pd.read_csv('FullDataset.csv', index_col=0)"
   ]
  },
  {
   "cell_type": "code",
   "execution_count": 7,
   "id": "6752d9f9",
   "metadata": {},
   "outputs": [
    {
     "data": {
      "text/html": [
       "<div>\n",
       "<style scoped>\n",
       "    .dataframe tbody tr th:only-of-type {\n",
       "        vertical-align: middle;\n",
       "    }\n",
       "\n",
       "    .dataframe tbody tr th {\n",
       "        vertical-align: top;\n",
       "    }\n",
       "\n",
       "    .dataframe thead th {\n",
       "        text-align: right;\n",
       "    }\n",
       "</style>\n",
       "<table border=\"1\" class=\"dataframe\">\n",
       "  <thead>\n",
       "    <tr style=\"text-align: right;\">\n",
       "      <th></th>\n",
       "      <th>Title</th>\n",
       "      <th>Artist</th>\n",
       "      <th>URI</th>\n",
       "      <th>danceability</th>\n",
       "      <th>energy</th>\n",
       "      <th>key</th>\n",
       "      <th>loudness</th>\n",
       "      <th>mode</th>\n",
       "      <th>speechiness</th>\n",
       "      <th>acousticness</th>\n",
       "      <th>instrumentalness</th>\n",
       "      <th>liveness</th>\n",
       "      <th>valence</th>\n",
       "      <th>tempo</th>\n",
       "      <th>duration_ms</th>\n",
       "      <th>time_signature</th>\n",
       "      <th>Target</th>\n",
       "    </tr>\n",
       "  </thead>\n",
       "  <tbody>\n",
       "    <tr>\n",
       "      <th>0</th>\n",
       "      <td>hanging by a moment</td>\n",
       "      <td>lifehouse</td>\n",
       "      <td>0wqOReZDnrefefEsrIGeR4</td>\n",
       "      <td>0.541</td>\n",
       "      <td>0.864</td>\n",
       "      <td>1.0</td>\n",
       "      <td>-4.915</td>\n",
       "      <td>1.0</td>\n",
       "      <td>0.0357</td>\n",
       "      <td>0.00118</td>\n",
       "      <td>0.00000</td>\n",
       "      <td>0.0896</td>\n",
       "      <td>0.435</td>\n",
       "      <td>124.557</td>\n",
       "      <td>216067.0</td>\n",
       "      <td>4.0</td>\n",
       "      <td>1</td>\n",
       "    </tr>\n",
       "    <tr>\n",
       "      <th>1</th>\n",
       "      <td>fallin’</td>\n",
       "      <td>alicia keys</td>\n",
       "      <td>0KQx6HOpJueiSkztcS0r7D</td>\n",
       "      <td>0.652</td>\n",
       "      <td>0.609</td>\n",
       "      <td>11.0</td>\n",
       "      <td>-7.519</td>\n",
       "      <td>0.0</td>\n",
       "      <td>0.0370</td>\n",
       "      <td>0.26300</td>\n",
       "      <td>0.00101</td>\n",
       "      <td>0.2330</td>\n",
       "      <td>0.482</td>\n",
       "      <td>95.986</td>\n",
       "      <td>210200.0</td>\n",
       "      <td>3.0</td>\n",
       "      <td>1</td>\n",
       "    </tr>\n",
       "    <tr>\n",
       "      <th>2</th>\n",
       "      <td>all for you</td>\n",
       "      <td>janet jackson</td>\n",
       "      <td>5X8kkUaUlAyAUr9TYqDFTH</td>\n",
       "      <td>0.753</td>\n",
       "      <td>0.934</td>\n",
       "      <td>2.0</td>\n",
       "      <td>-3.011</td>\n",
       "      <td>1.0</td>\n",
       "      <td>0.0736</td>\n",
       "      <td>0.01740</td>\n",
       "      <td>0.06500</td>\n",
       "      <td>0.1280</td>\n",
       "      <td>0.730</td>\n",
       "      <td>113.525</td>\n",
       "      <td>329933.0</td>\n",
       "      <td>3.0</td>\n",
       "      <td>1</td>\n",
       "    </tr>\n",
       "    <tr>\n",
       "      <th>3</th>\n",
       "      <td>drops of jupiter (tell me)</td>\n",
       "      <td>train</td>\n",
       "      <td>2hKdd3qO7cWr2Jo0Bcs0MA</td>\n",
       "      <td>0.481</td>\n",
       "      <td>0.638</td>\n",
       "      <td>0.0</td>\n",
       "      <td>-5.862</td>\n",
       "      <td>1.0</td>\n",
       "      <td>0.0276</td>\n",
       "      <td>0.15300</td>\n",
       "      <td>0.00000</td>\n",
       "      <td>0.1540</td>\n",
       "      <td>0.497</td>\n",
       "      <td>79.064</td>\n",
       "      <td>259933.0</td>\n",
       "      <td>4.0</td>\n",
       "      <td>1</td>\n",
       "    </tr>\n",
       "    <tr>\n",
       "      <th>4</th>\n",
       "      <td>i’m real</td>\n",
       "      <td>jennifer lopez feat. ja rule</td>\n",
       "      <td>6MLsahMK3VvH9NUwXOktdS</td>\n",
       "      <td>0.708</td>\n",
       "      <td>0.587</td>\n",
       "      <td>11.0</td>\n",
       "      <td>-7.930</td>\n",
       "      <td>0.0</td>\n",
       "      <td>0.1510</td>\n",
       "      <td>0.27300</td>\n",
       "      <td>0.00000</td>\n",
       "      <td>0.0718</td>\n",
       "      <td>0.554</td>\n",
       "      <td>83.460</td>\n",
       "      <td>262133.0</td>\n",
       "      <td>4.0</td>\n",
       "      <td>1</td>\n",
       "    </tr>\n",
       "  </tbody>\n",
       "</table>\n",
       "</div>"
      ],
      "text/plain": [
       "                        Title                        Artist  \\\n",
       "0         hanging by a moment                     lifehouse   \n",
       "1                     fallin’                   alicia keys   \n",
       "2                 all for you                 janet jackson   \n",
       "3  drops of jupiter (tell me)                         train   \n",
       "4                    i’m real  jennifer lopez feat. ja rule   \n",
       "\n",
       "                      URI  danceability  energy   key  loudness  mode  \\\n",
       "0  0wqOReZDnrefefEsrIGeR4         0.541   0.864   1.0    -4.915   1.0   \n",
       "1  0KQx6HOpJueiSkztcS0r7D         0.652   0.609  11.0    -7.519   0.0   \n",
       "2  5X8kkUaUlAyAUr9TYqDFTH         0.753   0.934   2.0    -3.011   1.0   \n",
       "3  2hKdd3qO7cWr2Jo0Bcs0MA         0.481   0.638   0.0    -5.862   1.0   \n",
       "4  6MLsahMK3VvH9NUwXOktdS         0.708   0.587  11.0    -7.930   0.0   \n",
       "\n",
       "   speechiness  acousticness  instrumentalness  liveness  valence    tempo  \\\n",
       "0       0.0357       0.00118           0.00000    0.0896    0.435  124.557   \n",
       "1       0.0370       0.26300           0.00101    0.2330    0.482   95.986   \n",
       "2       0.0736       0.01740           0.06500    0.1280    0.730  113.525   \n",
       "3       0.0276       0.15300           0.00000    0.1540    0.497   79.064   \n",
       "4       0.1510       0.27300           0.00000    0.0718    0.554   83.460   \n",
       "\n",
       "   duration_ms  time_signature  Target  \n",
       "0     216067.0             4.0       1  \n",
       "1     210200.0             3.0       1  \n",
       "2     329933.0             3.0       1  \n",
       "3     259933.0             4.0       1  \n",
       "4     262133.0             4.0       1  "
      ]
     },
     "execution_count": 7,
     "metadata": {},
     "output_type": "execute_result"
    }
   ],
   "source": [
    "data.head()"
   ]
  },
  {
   "cell_type": "code",
   "execution_count": null,
   "id": "3bd83789",
   "metadata": {},
   "outputs": [],
   "source": []
  },
  {
   "cell_type": "code",
   "execution_count": 8,
   "id": "cb1e676d",
   "metadata": {},
   "outputs": [],
   "source": [
    "def append_pop(dataframe):\n",
    "    for lab, row in dataframe.iterrows():\n",
    "        dataframe.loc[lab, 'popularity'] = get_pop(row['URI'])"
   ]
  },
  {
   "cell_type": "code",
   "execution_count": null,
   "id": "a2b63d9d",
   "metadata": {},
   "outputs": [],
   "source": [
    "append_pop(data)"
   ]
  },
  {
   "cell_type": "code",
   "execution_count": null,
   "id": "44fa3e7f",
   "metadata": {},
   "outputs": [],
   "source": []
  },
  {
   "cell_type": "code",
   "execution_count": 15,
   "id": "0cd7970a",
   "metadata": {},
   "outputs": [],
   "source": [
    "popularity_ser = data['URI'].map(lambda x : get_pop(x))"
   ]
  },
  {
   "cell_type": "code",
   "execution_count": 17,
   "id": "a92c84d5",
   "metadata": {},
   "outputs": [],
   "source": [
    "pop_df = popularity_ser.apply(pd.Series)"
   ]
  },
  {
   "cell_type": "code",
   "execution_count": 18,
   "id": "e1741704",
   "metadata": {},
   "outputs": [
    {
     "data": {
      "text/html": [
       "<div>\n",
       "<style scoped>\n",
       "    .dataframe tbody tr th:only-of-type {\n",
       "        vertical-align: middle;\n",
       "    }\n",
       "\n",
       "    .dataframe tbody tr th {\n",
       "        vertical-align: top;\n",
       "    }\n",
       "\n",
       "    .dataframe thead th {\n",
       "        text-align: right;\n",
       "    }\n",
       "</style>\n",
       "<table border=\"1\" class=\"dataframe\">\n",
       "  <thead>\n",
       "    <tr style=\"text-align: right;\">\n",
       "      <th></th>\n",
       "      <th>0</th>\n",
       "    </tr>\n",
       "  </thead>\n",
       "  <tbody>\n",
       "    <tr>\n",
       "      <th>0</th>\n",
       "      <td>70</td>\n",
       "    </tr>\n",
       "    <tr>\n",
       "      <th>1</th>\n",
       "      <td>72</td>\n",
       "    </tr>\n",
       "    <tr>\n",
       "      <th>2</th>\n",
       "      <td>70</td>\n",
       "    </tr>\n",
       "    <tr>\n",
       "      <th>3</th>\n",
       "      <td>82</td>\n",
       "    </tr>\n",
       "    <tr>\n",
       "      <th>4</th>\n",
       "      <td>70</td>\n",
       "    </tr>\n",
       "  </tbody>\n",
       "</table>\n",
       "</div>"
      ],
      "text/plain": [
       "    0\n",
       "0  70\n",
       "1  72\n",
       "2  70\n",
       "3  82\n",
       "4  70"
      ]
     },
     "execution_count": 18,
     "metadata": {},
     "output_type": "execute_result"
    }
   ],
   "source": [
    "pop_df.head()"
   ]
  },
  {
   "cell_type": "code",
   "execution_count": 19,
   "id": "c9f2d24b",
   "metadata": {},
   "outputs": [
    {
     "name": "stdout",
     "output_type": "stream",
     "text": [
      "<class 'pandas.core.frame.DataFrame'>\n",
      "Int64Index: 17373 entries, 0 to 17372\n",
      "Data columns (total 17 columns):\n",
      " #   Column            Non-Null Count  Dtype  \n",
      "---  ------            --------------  -----  \n",
      " 0   Title             17373 non-null  object \n",
      " 1   Artist            17373 non-null  object \n",
      " 2   URI               17373 non-null  object \n",
      " 3   danceability      17373 non-null  float64\n",
      " 4   energy            17373 non-null  float64\n",
      " 5   key               17373 non-null  float64\n",
      " 6   loudness          17373 non-null  float64\n",
      " 7   mode              17373 non-null  float64\n",
      " 8   speechiness       17373 non-null  float64\n",
      " 9   acousticness      17373 non-null  float64\n",
      " 10  instrumentalness  17373 non-null  float64\n",
      " 11  liveness          17373 non-null  float64\n",
      " 12  valence           17373 non-null  float64\n",
      " 13  tempo             17373 non-null  float64\n",
      " 14  duration_ms       17373 non-null  float64\n",
      " 15  time_signature    17373 non-null  float64\n",
      " 16  Target            17373 non-null  int64  \n",
      "dtypes: float64(13), int64(1), object(3)\n",
      "memory usage: 2.4+ MB\n"
     ]
    }
   ],
   "source": [
    "data.info()"
   ]
  },
  {
   "cell_type": "code",
   "execution_count": 20,
   "id": "c71ba779",
   "metadata": {},
   "outputs": [
    {
     "name": "stdout",
     "output_type": "stream",
     "text": [
      "<class 'pandas.core.frame.DataFrame'>\n",
      "Int64Index: 17373 entries, 0 to 17372\n",
      "Data columns (total 1 columns):\n",
      " #   Column  Non-Null Count  Dtype\n",
      "---  ------  --------------  -----\n",
      " 0   0       17373 non-null  int64\n",
      "dtypes: int64(1)\n",
      "memory usage: 271.5 KB\n"
     ]
    }
   ],
   "source": [
    "pop_df.info()"
   ]
  },
  {
   "cell_type": "code",
   "execution_count": null,
   "id": "0264a9b4",
   "metadata": {},
   "outputs": [],
   "source": [
    "data_pop = data.merge(pop_df, how='inner', left_on='URI', right_on='id')"
   ]
  },
  {
   "cell_type": "code",
   "execution_count": null,
   "id": "dbde2933",
   "metadata": {},
   "outputs": [],
   "source": []
  }
 ],
 "metadata": {
  "kernelspec": {
   "display_name": "Python 3 (ipykernel)",
   "language": "python",
   "name": "python3"
  },
  "language_info": {
   "codemirror_mode": {
    "name": "ipython",
    "version": 3
   },
   "file_extension": ".py",
   "mimetype": "text/x-python",
   "name": "python",
   "nbconvert_exporter": "python",
   "pygments_lexer": "ipython3",
   "version": "3.8.12"
  }
 },
 "nbformat": 4,
 "nbformat_minor": 5
}
